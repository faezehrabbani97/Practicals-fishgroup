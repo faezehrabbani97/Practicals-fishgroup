{
 "cells": [
  {
   "cell_type": "markdown",
   "metadata": {},
   "source": [
    "Welcome to Day 3 of the Practicals !!\n",
    "\n",
    "The goal of today is to use Dimentionality Reduction technics on whole-brain data.\n",
    "\n",
    "**What is Dimentionality Reduction ?**  \n",
    "The goal of Dimentionality Reduction (DR) is to transform data which has $D$ dimentions into a new space of dimention $d$ with $d<D$. We will refer to any such transformation as $D→d$.  \n",
    "DR spans everything from simple averaging, up to very complex Machine Learning algorithms which are completly out of the scope of this tutorial. We are going to focus on a few intermidiary methods which are conceptually relatively complicated, but which are very easy to use in practice.  \n",
    "You will see that the biggest problem with DR is not the programming itself (because most of the time you will use librairies which already exist) but **the biggest problem is how to interpret the results !** Hence this tutorial is not going to involve a lot of programming, but will instead focus on building your understanding of DR methods.\n",
    "\n",
    "**Why do we use Dimentionality Reduction**  \n",
    "First of all when you have thousands of neurons it can be very very hard to get an intuition of what is happening in the data. A good way of solving this problem is to reduce the dimensionality to something which can be plotted in 2D or 3D.   \n",
    "Another important use case of DR is to find emerging properties in your data. A lot of interesting dynamics/properties do not happen at the scale of individual neurons, but happen instead at the scales of groups of neurons or perhaps the entire brain. Some DR methods allow you to identify those emerging properties.\n",
    "\n",
    "\n",
    "During this tutorial, we will use the following markers :\n",
    "- ➡️👤⌨️ : shows you what/were you need to code yourself.\n",
    "- 💡 : shows hints to help you if you need it.\n",
    "- ❗ : shows important notes.\n",
    "- ⚠️ : shows warnings.\n",
    "\n",
    "❗ We remind you that at any time, you can run `?thing` to get the documentation for `thing`. Typicaly, this is useful if `thing` is a function, and you need to know what are its parameters and/or what it does."
   ]
  },
  {
   "cell_type": "code",
   "execution_count": null,
   "metadata": {},
   "outputs": [],
   "source": []
  },
  {
   "cell_type": "markdown",
   "metadata": {},
   "source": [
    "# 0.0. Settup Colab"
   ]
  },
  {
   "cell_type": "code",
   "execution_count": null,
   "metadata": {},
   "outputs": [],
   "source": [
    "!mkdir /content/Helper_Functions/\n",
    "!wget -P /content/Helper_Functions/ https://raw.githubusercontent.com/EmeEmu/IBIO-Banyuls2023-Python/main/Helper_Functions/accessing_data.py\n",
    "!wget -P /content/Helper_Functions/ https://raw.githubusercontent.com/EmeEmu/IBIO-Banyuls2023-Python/main/Helper_Functions/plotting_functions.py\n",
    "!wget -P /content/Helper_Functions/ https://raw.githubusercontent.com/EmeEmu/IBIO-Banyuls2023-Python/main/Helper_Functions/OrthoViewer.py\n",
    "!wget -P /content/Helper_Functions/ https://raw.githubusercontent.com/EmeEmu/IBIO-Banyuls2023-Python/main/Helper_Functions/dimred_helper.py"
   ]
  },
  {
   "cell_type": "code",
   "execution_count": null,
   "metadata": {},
   "outputs": [],
   "source": [
    "!pip install ipympl\n",
    "from google.colab import output\n",
    "output.enable_custom_widget_manager()\n",
    "%matplotlib widget"
   ]
  },
  {
   "cell_type": "code",
   "execution_count": null,
   "metadata": {},
   "outputs": [],
   "source": [
    "!gdown --folder 1k21VhLoonOnoxxXyswrmE45VIB4FF00n"
   ]
  },
  {
   "cell_type": "code",
   "execution_count": null,
   "metadata": {},
   "outputs": [],
   "source": [
    "!pip install kneed"
   ]
  },
  {
   "cell_type": "markdown",
   "metadata": {},
   "source": [
    "# 0.1. Imports\n",
    "\n",
    "As usual lets start by importing a few librairies and functions"
   ]
  },
  {
   "cell_type": "code",
   "execution_count": null,
   "metadata": {
    "id": "nwDx7smu_xKm"
   },
   "outputs": [],
   "source": [
    "import numpy as np\n",
    "import matplotlib.pyplot as plt\n",
    "from matplotlib.gridspec import GridSpec\n",
    "from matplotlib.colors import ListedColormap\n",
    "import h5py\n",
    "import scipy\n",
    "from sklearn.cluster import KMeans\n",
    "from scipy.cluster import hierarchy as hier\n",
    "from scipy.interpolate import interp1d\n",
    "from tqdm import tqdm\n",
    "from sklearn.metrics import silhouette_score, silhouette_samples\n",
    "from kneed import KneeLocator\n",
    "import ipywidgets as widgets\n",
    "from sklearn.decomposition import PCA, FastICA\n",
    "from tqdm import tqdm\n",
    "from sklearn.manifold import TSNE"
   ]
  },
  {
   "cell_type": "code",
   "execution_count": null,
   "metadata": {},
   "outputs": [],
   "source": [
    "from Helper_Functions.accessing_data import h5tree_view\n",
    "from Helper_Functions.OrthoViewer import OrthoAxes\n",
    "from Helper_Functions.plotting_functions import *\n",
    "from Helper_Functions.dimred_helper import *"
   ]
  },
  {
   "cell_type": "markdown",
   "metadata": {
    "id": "BFK2oiazEhFJ"
   },
   "source": [
    "# 0.2. Get the data\n",
    "\n",
    "We will use data coming from the same experiment as yesterday. However, yesterday the visual stimulus was always in the same direction but at different speeds, whereas today the **speed of the stimulus is constant but along different directions**.\n",
    "\n",
    "![setup](https://raw.githubusercontent.com/EmeEmu/IBIO-Banyuls2023-Python/main/img/experimental_setup_danionella.png)\n",
    "\n",
    "Let's load the data.  \n",
    "You will find it in the hdf5 file `banyuls_data/fish1_different_directions.hdf5`. Load this file and show the data tree.\n",
    "\n",
    "Like yesterday, you will see that this file is split into 3 sections. We will need to load the following arrays :\n",
    "- `brain`\n",
    "  - neurons coordinates (in xyz space)\n",
    "  - ΔF/F for each neuron\n",
    "  - times at which the brain was imaged\n",
    "- `stimulus`\n",
    "  - direction of the visual stimulus\n",
    "  - times at which the stimulus was updated\n",
    "- `tail`\n",
    "  - mean deflection of the tail\n",
    "  - forward thrust\n",
    "  - side thrust\n",
    "  - times at which the tail was imaged\n"
   ]
  },
  {
   "cell_type": "code",
   "execution_count": null,
   "metadata": {},
   "outputs": [],
   "source": [
    "filepath = \"banyuls_data/fish1_different_directions.hdf5\"\n",
    "file = h5py.File(filepath, \"r\")\n",
    "h5tree_view(file)"
   ]
  },
  {
   "cell_type": "code",
   "execution_count": null,
   "metadata": {},
   "outputs": [],
   "source": [
    "coords = file[\"/brain/coordinates\"][:]\n",
    "dffs = file[\"/brain/dff\"][:]\n",
    "brain_time = file[\"/brain/times\"][:]\n",
    "\n",
    "direction = file[\"/stimulus/direction\"][:]\n",
    "stim_time = file[\"/stimulus/times\"][:]\n",
    "\n",
    "tail = file[\"/tail/deflection\"][:]\n",
    "forward_thrust = file[\"/tail/forward_thrust\"][:]\n",
    "side_thrust = file[\"/tail/side_thrust\"][:]\n",
    "tail_time = file[\"/tail/times\"][:]"
   ]
  },
  {
   "cell_type": "markdown",
   "metadata": {},
   "source": [
    "As we will want to compare brain activity, stimulus, and behavior later during this tutorial, the behavior and stimulus need to be downsampled at the brain imaging frequency.  \n",
    "➡️👤⌨️ **Interpolate `direction`, `tail`,`forward_thrust`, and `side_thrust` so they are temporaly coherent with `dffs`.** ➡️👤⌨️\n",
    "\n",
    "💡 You can use the function `np.interp` (or like yesterday `interp1d`)."
   ]
  },
  {
   "cell_type": "code",
   "execution_count": null,
   "metadata": {},
   "outputs": [],
   "source": [
    "# ➡️👤⌨️\n",
    "direction = ...\n",
    "tail = ...\n",
    "forward_thrust = ...\n",
    "side_thrust = ..."
   ]
  },
  {
   "cell_type": "markdown",
   "metadata": {},
   "source": [
    "➡️👤⌨️ **Create a new signal `flow_on` which is equal to 1 when the stimulus is on (ie. `direction`$\\neq$NaN), and 0 otherwise.** ➡️👤⌨️\n",
    "\n",
    "💡 you can use the function `np.isfinite` to find when `direction`$\\neq$NaN."
   ]
  },
  {
   "cell_type": "code",
   "execution_count": null,
   "metadata": {},
   "outputs": [],
   "source": [
    "# ➡️👤⌨️\n",
    "flow_on = ..."
   ]
  },
  {
   "cell_type": "markdown",
   "metadata": {},
   "source": [
    "# 0.3. Observe the Data\n",
    "\n",
    "Let's start as usual by looking at the data."
   ]
  },
  {
   "cell_type": "code",
   "execution_count": null,
   "metadata": {},
   "outputs": [],
   "source": [
    "fig, axs = plt.subplots(nrows=2, figsize=(12,8), sharex=True)\n",
    "ax=axs[0]\n",
    "ax.plot(brain_time, direction, color=\"k\", linewidth=5)\n",
    "ax.set_ylabel(\"Direction (degree)\")\n",
    "ax.set_title(\"Direction of the stimulus\")\n",
    "ax = axs[1]\n",
    "ax.plot(brain_time, flow_on, color=\"k\")\n",
    "ax.set_xlabel(\"Time (s)\")\n",
    "ax.set_ylabel(\"Flow ON/OFF\")"
   ]
  },
  {
   "cell_type": "code",
   "execution_count": null,
   "metadata": {},
   "outputs": [],
   "source": [
    "fig, ax = plt.subplots(figsize=(12,6), constrained_layout=True)\n",
    "cr = ComplexRaster(\n",
    "    ax, dffs,\n",
    "    times=brain_time,\n",
    "    X_params={'cmap': 'inferno', 'vmin': 0, 'vmax': 0.7},\n",
    ")\n",
    "fig.colorbar(cr._im_dff, ax=ax,label=\"ΔF/F\")\n",
    "ax.set_title(\"ΔF/F of all neurons\")"
   ]
  },
  {
   "cell_type": "code",
   "execution_count": null,
   "metadata": {},
   "outputs": [],
   "source": [
    "fig, axs = plt.subplots(nrows=3,figsize=(12,8), sharex=True)\n",
    "axs[0].plot(brain_time, tail, color=\"k\")\n",
    "axs[1].plot(brain_time, forward_thrust, color=\"k\")\n",
    "axs[2].plot(brain_time, side_thrust, color=\"k\")\n",
    "axs[2].set_xlabel(\"Time (s)\")\n",
    "axs[0].set_ylabel(\"Tail (degree)\")\n",
    "axs[1].set_ylabel(\"Forward Thurst (a.u.)\")\n",
    "axs[2].set_ylabel(\"Side Thurst (a.u.)\")\n",
    "fig.suptitle(\"Behavioral signals\")"
   ]
  },
  {
   "cell_type": "markdown",
   "metadata": {},
   "source": [
    "For now, this looks very similar to what we did yesterday. However, what we are doing today is conceptualy very different.\n",
    "\n",
    "**Yesterday, the questions were :**\n",
    "\n",
    "    - Can we identify neurons which follow behavioral/stimuli signals ?\n",
    "    - Where are those neurons located in the brain ?\n",
    "→ we forced the algorithms to learn from the external signals\n",
    "\n",
    "**Today, the questions are :**\n",
    "\n",
    "    - Can we cluster neurons into groups ?\n",
    "    - Can we interpret the activity of those clusters using behavior/stimuli ?\n",
    "    - Can we find modes in the activity of the brain ?\n",
    "    - Can we interpret those modes using behavior/stimuli ?\n",
    "→ we try to find structure in the neuron-activity data, then compare these structures with external signal"
   ]
  },
  {
   "cell_type": "code",
   "execution_count": null,
   "metadata": {},
   "outputs": [],
   "source": []
  },
  {
   "cell_type": "code",
   "execution_count": null,
   "metadata": {},
   "outputs": [],
   "source": []
  },
  {
   "cell_type": "markdown",
   "metadata": {},
   "source": [
    "# 1. Clusterize with KMeans\n",
    "\n",
    "In this section we will use k-means clustering to find groups of neurons which have similar activity.  \n",
    "\n",
    "**Small reminder abour KMeans**  \n",
    "![k-means](https://upload.wikimedia.org/wikipedia/commons/7/7b/Kmeans_animation_withoutWatermark.gif \"source : wikimedia | author : Incheol\")\n",
    "\n",
    "k-means is a clustering algorithm, which means that it divides the data into groups by dividing the space into regions (aka. partitioning).  \n",
    "Imagine you have $D$ objects $(\\mathbf{x}_1, ..., \\mathbf{x}_D)$ which you want to devide into $k$ groups (aka. $k$ clusters).  \n",
    "$\\Delta_{ij} = ||\\mathbf{x}_i - \\mathbf{x}_j||^2$ is the distance between objects $i$ and $j$.  \n",
    "\n",
    "k-means will assign each $\\mathbf{x}_i$ to 1 (and only 1) cluster $K_{\\alpha}$ ($i\\in K_{\\alpha}$), in a way that minimizes the distance between objets which belong in the same cluster. This means that :\n",
    "$$\\Delta_{ij} < \\Delta_{im} \\text{  , if  } i,j\\in K_{\\alpha} \\text{  and  } m\\in K_{\\beta} \\text{  ,  with  } \\alpha\\neq\\beta$$\n",
    "\n",
    "The center of each cluster $\\mu_k$ is called its centroid (the triangles in the GIF above). When using k-means as a dimentionality reduction tool, we usualy use the $k$ centroid as a reduced version of the original data  : $D→k$."
   ]
  },
  {
   "cell_type": "code",
   "execution_count": null,
   "metadata": {},
   "outputs": [],
   "source": [
    "# general parameters that we will re-use\n",
    "kmeans_params = {\n",
    "    \"init\":\"k-means++\",\n",
    "    \"n_init\":10, \n",
    "    \"random_state\":0,\n",
    "    \"max_iter\":300,\n",
    "}"
   ]
  },
  {
   "cell_type": "markdown",
   "metadata": {},
   "source": [
    "## 1.1 (Optional) Finding optimal number of clusters\n",
    "\n",
    "Anytime we do a Dimentionality Reduction $D→d$, we must ask \"how do I choose $d$ ?\" .  \n",
    "This is a very complicated subject which would require an entire course. Here we will use a very basic method called the [elbow method](https://en.wikipedia.org/wiki/Elbow_method_(clustering)). However, the elbow method is usualy not enough. If you want to go in more depth on this subject, you can start with the [wikipedia article](https://en.wikipedia.org/wiki/Determining_the_number_of_clusters_in_a_data_set) on the subject.\n",
    "\n",
    "The idea behind the elbow method is to perform multiple clusterings with different number of clusters $k$, and compute for each the Sum of Squared Errors (SSE), which is the distance between each object and the closest centroid $SSE = \\sum_{k,i\\in K_k}||\\mathbf{x}_i - \\mu_k||^2$. \n",
    "\n",
    "➡️👤⌨️ **Compute the SSE for multiple k-means clustering with 2 to 10 clusters** ➡️👤⌨️\n",
    "\n",
    "💡 you can use `kmeans = KMeans(n_clusters=k, **kmeans_params)` to initialize a clustering and `kmeans.fit(dffs)` to train it.  \n",
    "💡 you can get the SSE from a trained `kmeans` by using `kmeans.inertia_`.  \n",
    "⚠️ running multiple k-means clustering can be quite slow. This could take more than 5 minutes to run.\n"
   ]
  },
  {
   "cell_type": "code",
   "execution_count": null,
   "metadata": {},
   "outputs": [],
   "source": [
    "# ➡️👤⌨️\n",
    "SSEs = []\n",
    "Ks = []\n",
    "\n",
    "for k in tqdm(range(2,10)):\n",
    "    Ks.append(k)\n",
    "    kmeans = ...\n",
    "    ..."
   ]
  },
  {
   "cell_type": "code",
   "execution_count": null,
   "metadata": {},
   "outputs": [],
   "source": [
    "fig, ax = plt.subplots(figsize=(7,4))\n",
    "ax.plot(Ks, SSEs, \"-o\", color=\"k\")\n",
    "ax.set_ylabel(\"SSE\")\n",
    "ax.set_xlabel(\"# Clusters\")"
   ]
  },
  {
   "cell_type": "markdown",
   "metadata": {},
   "source": [
    "Now let's find the *elbow* in the curve, that is, the point at which the curve has maximum curvature. We will do this using the `KneeLocator` function from the `kneed` librairy. According to the Elbow method, this is the optimal number of cluster we should use."
   ]
  },
  {
   "cell_type": "code",
   "execution_count": null,
   "metadata": {},
   "outputs": [],
   "source": [
    "kl = KneeLocator(Ks, SSEs, curve=\"convex\", direction=\"decreasing\")"
   ]
  },
  {
   "cell_type": "code",
   "execution_count": null,
   "metadata": {},
   "outputs": [],
   "source": [
    "fig, ax = plt.subplots(figsize=(7,4))\n",
    "ax.plot(Ks, SSEs, \"-o\", color=\"k\")\n",
    "ax.set_ylabel(\"SSE\")\n",
    "ax.set_xlabel(\"# Clusters\")\n",
    "r = np.ptp(SSEs)*0.05\n",
    "mmin, mmax = np.min(SSEs)-r,np.max(SSEs)+r\n",
    "height = SSEs[kl.elbow-2]\n",
    "ax.set_ylim(mmin, mmax)\n",
    "ax.set_xlim(0,np.max(Ks)+1)\n",
    "\n",
    "ax.scatter(kl.elbow, height, color=\"k\")\n",
    "ax.vlines(kl.elbow, mmin, height, color=\"k\", linestyle=\"--\")\n",
    "ax.hlines(height, 0, kl.elbow, color=\"k\", linestyle=\"--\")\n",
    "ax.text(kl.elbow+0.1, (height+mmin)/2, f\"elbow = {kl.elbow}\", ha=\"left\", va=\"center\", rotation=\"vertical\")\n",
    "ax.text(kl.elbow/2, height+0.01, f\"{height:0.1E}\", ha=\"center\", va=\"bottom\")\n"
   ]
  },
  {
   "cell_type": "markdown",
   "metadata": {},
   "source": [
    "⚠️ Keep in mind that the elbow method is not a universal recipe and should not be followed blindly. In practice it should be combined with other methods, and your understanding of the system should also come into play."
   ]
  },
  {
   "cell_type": "code",
   "execution_count": null,
   "metadata": {},
   "outputs": [],
   "source": []
  },
  {
   "cell_type": "markdown",
   "metadata": {},
   "source": [
    "## 1.2 Clustering brain activity\n",
    "\n",
    "For this section, let's use only 5 clusters (it will make the analysis faster and easier)."
   ]
  },
  {
   "cell_type": "code",
   "execution_count": null,
   "metadata": {},
   "outputs": [],
   "source": [
    "kmeans = KMeans(n_clusters=5, **kmeans_params)\n",
    "kmeans.fit(dffs)"
   ]
  },
  {
   "cell_type": "markdown",
   "metadata": {},
   "source": [
    "➡️👤⌨️ **Using `kmeans.labels_` you can get the cluster number for each neuron. Check that everything is running correctly and that you have the right number on labels.** ➡️👤⌨️"
   ]
  },
  {
   "cell_type": "code",
   "execution_count": null,
   "metadata": {},
   "outputs": [],
   "source": [
    "# ➡️👤⌨️\n",
    "..."
   ]
  },
  {
   "cell_type": "markdown",
   "metadata": {},
   "source": [
    "Now we will plot our 5 clusters in our 3D brain to see what it looks like"
   ]
  },
  {
   "cell_type": "code",
   "execution_count": null,
   "metadata": {},
   "outputs": [],
   "source": [
    "fig = plt.figure(figsize=(4,7))\n",
    "ortho = OrthoAxes(fig, coords, interactive=False)\n",
    "ortho.scatter(coords, c=kmeans.labels_, s=1, cmap=\"Accent\", alpha=np.where(kmeans.labels_==0,0.5,1))"
   ]
  },
  {
   "cell_type": "code",
   "execution_count": null,
   "metadata": {},
   "outputs": [],
   "source": [
    "def plot_single_k(k=0):\n",
    "    inds = np.where(kmeans.labels_==k)[0]\n",
    "    fig = plt.figure(figsize=(4,7))\n",
    "    ortho = OrthoAxes(fig, coords, interactive=False)\n",
    "    ortho.scatter(coords[:,inds], c=kmeans.labels_[inds], s=5, cmap=\"Accent\", alpha=0.5, vmin=kmeans.labels_.min(), vmax=kmeans.labels_.max())\n",
    "    plt.show()\n",
    "widgets.interact(plot_single_k, k=(0,kmeans.n_clusters-1,1))"
   ]
  },
  {
   "cell_type": "markdown",
   "metadata": {},
   "source": [
    "From what you have learned yesterday, can you already guess what those 5 clusters correspond to ?"
   ]
  },
  {
   "cell_type": "markdown",
   "metadata": {},
   "source": [
    "➡️👤⌨️ Now that we know which neurons bellong to which cluster, **create a function which gets the ΔF/F all the neurons in a cluster.** ➡️👤⌨️"
   ]
  },
  {
   "cell_type": "code",
   "execution_count": null,
   "metadata": {},
   "outputs": [],
   "source": [
    "def extract_cluster_dffs(X, labels, k):\n",
    "    \"\"\"Get dff of neurons in one cluster from cluster labels.\n",
    "\n",
    "    Parameters :\n",
    "    ------------\n",
    "    :X: 2D array\n",
    "        ΔF/F of neurons ( neuron x time ).\n",
    "    :labels: 1D array\n",
    "        cluster label for each neuron.\n",
    "    :k: integer\n",
    "        label for the cluster we want to extract.\n",
    "\n",
    "    Results :\n",
    "    ---------\n",
    "    :subX: 2D array\n",
    "        ΔF/F of neurons in cluster :k: ( neuron x time ).\n",
    "    \"\"\"\n",
    "    assert X.ndim==2\n",
    "    n,_ = X.shape\n",
    "    assert labels.ndim==1\n",
    "    assert len(labels)==n\n",
    "    assert isinstance(k, int)\n",
    "\n",
    "    # ➡️👤⌨️\n",
    "    ...\n",
    "    # ➡️👤⌨️\n",
    "\n",
    "    assert subX.ndim==2\n",
    "    assert subX.shape[1]==X.shape[1]\n",
    "    return subX"
   ]
  },
  {
   "cell_type": "markdown",
   "metadata": {},
   "source": [
    "And now let's plot the raster plots of each cluster"
   ]
  },
  {
   "cell_type": "code",
   "execution_count": null,
   "metadata": {},
   "outputs": [],
   "source": [
    "fig, axs = plt.subplots(nrows=kmeans.n_clusters, figsize=(12,6), sharex=True)\n",
    "for k in range(kmeans.n_clusters):\n",
    "    subdff = extract_cluster_dffs(dffs, kmeans.labels_, k)\n",
    "    cr = ComplexRaster(\n",
    "        axs[k], \n",
    "        subdff,\n",
    "        times=brain_time,\n",
    "        X_params={'cmap': 'inferno', 'vmin': 0, 'vmax': 0.7},\n",
    "    )\n",
    "    axs[k].set_xlabel(\"\")\n",
    "    axs[k].set_ylabel(f\"Cluster {k}\\n{len(subdff)}\\nneurons\")\n",
    "    axs[k].set_yticks([])\n",
    "axs[k].set_xlabel(\"Time (s)\")"
   ]
  },
  {
   "cell_type": "markdown",
   "metadata": {},
   "source": [
    "As you can see, the neurons in each cluster have very stereotypic activity. What do you think each cluster corresponds to ?"
   ]
  },
  {
   "cell_type": "markdown",
   "metadata": {},
   "source": [
    "➡️👤⌨️ Let's now **get the centroid of our 5 clusters and plot them.** ➡️👤⌨️  \n",
    "What do they represent ? Can you interpret them ? \n",
    "\n",
    "💡 you can use `kmeans.cluster_centers_`."
   ]
  },
  {
   "cell_type": "code",
   "execution_count": null,
   "metadata": {},
   "outputs": [],
   "source": [
    "# ➡️👤⌨️\n",
    "centroids = ...\n",
    "centroids.shape"
   ]
  },
  {
   "cell_type": "code",
   "execution_count": null,
   "metadata": {},
   "outputs": [],
   "source": [
    "# ➡️👤⌨️\n",
    "fig, ax = plt.subplots(figsize=(12,6))\n",
    "h = ax.imshow(\n",
    "    ..., \n",
    "    aspect=\"auto\", interpolation=\"none\", \n",
    "    cmap=\"inferno\", vmin=0, vmax=0.7, \n",
    "    extent=(brain_time[0], brain_time[-1], 0-0.5, kmeans.n_clusters-0.5)\n",
    ")\n",
    "ax.set_xlabel(\"Time (s)\")\n",
    "ax.set_ylabel(\"K cluster\")\n",
    "fig.colorbar(h, ax=ax, label=\"K cluster center activity\")"
   ]
  },
  {
   "cell_type": "markdown",
   "metadata": {},
   "source": [
    "## 1.3 Interpreting Clusters\n",
    "\n",
    "As we said before, the main difficulty with dimentionality reduction, is the interpretation of the results.   \n",
    "With k-means, the question is how to interpret the different clusters ? Are the groups of neurons we find physiologicaly relevant ? Functionaly relevant ? ...\n",
    "\n",
    "In the interactive plot bellow, **try to interpret the centroids of each cluster using the behavioral and stimuli signals we computed earlier.**  "
   ]
  },
  {
   "cell_type": "code",
   "execution_count": null,
   "metadata": {},
   "outputs": [],
   "source": [
    "def plot_find_cluster_meaning(k=0, sig=\"flowon\"):\n",
    "    fig, ax = plt.subplots(figsize=(12,5))\n",
    "    ax2 = ax.twinx()\n",
    "    ax2.tick_params(axis='y', labelcolor=\"red\")\n",
    "    if sig == \"tail\":\n",
    "        ax2.plot(brain_time, tail, color=\"red\", label=\"\")\n",
    "        ax2.set_ylabel(\"tail (degree)\", color=\"red\")\n",
    "    elif sig == \"left\":\n",
    "        ax2.plot(brain_time, np.clip(side_thrust,0,1.e9), color=\"red\", label=\"\")\n",
    "        ax2.set_ylabel(\"Left Thrust (a.u.)\", color=\"red\")\n",
    "    elif sig == \"right\":\n",
    "        ax2.plot(brain_time, np.clip(side_thrust,-1.e9,0), color=\"red\", label=\"\")\n",
    "        ax2.set_ylabel(\"Right Thrust (a.u.)\", color=\"red\")\n",
    "        ax2.invert_yaxis()\n",
    "    elif sig == \"forward\":\n",
    "        ax2.plot(brain_time, forward_thrust, color=\"red\", label=\"\")\n",
    "        ax2.set_ylabel(\"Forward Thrust (a.u.)\", color=\"red\")\n",
    "    elif sig == \"direction\":\n",
    "        ax2.plot(brain_time, direction, color=\"red\", label=\"tail (a.u.)\", linewidth=5)\n",
    "        ax2.set_ylabel(\"Direction (degree)\", color=\"red\")\n",
    "    elif sig == \"flowon\":\n",
    "        ax2.plot(brain_time, flow_on, color=\"red\", label=\"flow on (a.u.)\")\n",
    "        ax2.set_ylabel(\"Flow On/Off\", color=\"red\")\n",
    "    ax.plot(\n",
    "        brain_time, kmeans.cluster_centers_[k], \n",
    "        color=plt.cm.Accent(np.linspace(0,1,5))[k], \n",
    "        linewidth=3, label=f\"cluster {k}\",\n",
    "    )\n",
    "    ax.set_xlabel(\"Time (s)\")\n",
    "    ax.set_ylabel(\"Cluster Activity\")\n",
    "    ax.legend()\n",
    "    ax.set_zorder(ax2.get_zorder()+1)\n",
    "    ax.set_frame_on(False)\n",
    "    plt.show()\n",
    "widgets.interact(plot_find_cluster_meaning, k=(0,kmeans.n_clusters-1, 1), sig=[\"direction\", \"flowon\", \"tail\", \"forward\", \"left\", \"right\"])"
   ]
  },
  {
   "cell_type": "markdown",
   "metadata": {},
   "source": [
    "Did you find a clear interpretation for all clusters ? Can you use the spatial distribution of neurons we plotted earlier to refine your interpretations ?"
   ]
  },
  {
   "cell_type": "code",
   "execution_count": null,
   "metadata": {},
   "outputs": [],
   "source": []
  },
  {
   "cell_type": "code",
   "execution_count": null,
   "metadata": {},
   "outputs": [],
   "source": []
  },
  {
   "cell_type": "markdown",
   "metadata": {},
   "source": [
    "## 1.4 Investigating single cluster in detail\n",
    "\n",
    "In this section we will analyse a single k-means cluster in detail.  \n",
    "➡️👤⌨️ **Start by extracting the neuron activity of cluster 1 as `small_dffs` and it's centroid `small_mu`.** ➡️👤⌨️\n",
    "\n",
    "💡 you can use the function `extract_cluster_dffs` you coded earlier."
   ]
  },
  {
   "cell_type": "code",
   "execution_count": null,
   "metadata": {},
   "outputs": [],
   "source": [
    "# ➡️👤⌨️\n",
    "k = 1\n",
    "small_dffs = ...\n",
    "small_mu = ..."
   ]
  },
  {
   "cell_type": "code",
   "execution_count": null,
   "metadata": {},
   "outputs": [],
   "source": [
    "fig, ax = plt.subplots(figsize=(12,6))\n",
    "cr = ComplexRaster(\n",
    "    ax, small_dffs,\n",
    "    signal=small_mu,\n",
    "    times=brain_time,\n",
    "    X_params={'cmap': 'inferno', 'vmin': 0, 'vmax': 0.7},\n",
    "    signal_params={'cmap': 'inferno', 'vmin': 0, 'vmax': 0.7},\n",
    ")\n",
    "cr._ax_sig.set_title(\"Cluster centroid\")\n",
    "fig.colorbar(cr._im_dff, ax=ax,label=\"ΔF/F\")"
   ]
  },
  {
   "cell_type": "markdown",
   "metadata": {},
   "source": [
    "⚠️ For what we will be doing in this section, the RAM (working memory) is too small on Google Colab to work with more than 10000 neurons. The following line is a check to verify that the selected cluster does not contain more than 10k neurons."
   ]
  },
  {
   "cell_type": "code",
   "execution_count": null,
   "metadata": {},
   "outputs": [],
   "source": [
    "if len(small_dffs) > 10000:\n",
    "    raise TypeError(\"This cluster contains more than 10k neurons. Google Colab will not be able to deal with that.\")"
   ]
  },
  {
   "cell_type": "markdown",
   "metadata": {},
   "source": [
    "As expected, all the neurons in the cluster have an activity that looks like the centroid. BUT there is some variability which might be interesting.   \n",
    "➡️👤⌨️ Let's make this very obvious by **creating a new array `clust_var`, which represents the *difference* between the activity of neurons and the cluster centroid.** ➡️👤⌨️"
   ]
  },
  {
   "cell_type": "code",
   "execution_count": null,
   "metadata": {},
   "outputs": [],
   "source": [
    "# ➡️👤⌨️\n",
    "clust_var = ..."
   ]
  },
  {
   "cell_type": "code",
   "execution_count": null,
   "metadata": {},
   "outputs": [],
   "source": [
    "fig, ax = plt.subplots(figsize=(12,6))\n",
    "l = np.abs(np.quantile(clust_var, [0.01, 0.99])).max()\n",
    "cr = ComplexRaster(\n",
    "    ax, clust_var,\n",
    "    signal=small_mu,\n",
    "    times=brain_time,\n",
    "    X_params={'cmap': 'seismic', 'vmin': -l, 'vmax': +l},\n",
    "    signal_params={'cmap': 'inferno', 'vmin': 0, 'vmax': 0.7},\n",
    ")\n",
    "cr._ax_sig.set_title(\"Cluster centroid\")\n",
    "fig.colorbar(cr._im_dff, ax=ax,label=r\"$\\Delta F/F - \\langle \\Delta F/F \\rangle_{k=\"+str(k)+\"}$\")"
   ]
  },
  {
   "cell_type": "markdown",
   "metadata": {},
   "source": [
    "➡️👤⌨️ **Now compute the correlation matrix `Corr` between each neurons, using `clust_var`.** ➡️👤⌨️  \n",
    "What do you expect to see ?"
   ]
  },
  {
   "cell_type": "code",
   "execution_count": null,
   "metadata": {},
   "outputs": [],
   "source": [
    "# ➡️👤⌨️\n",
    "Corr = ...\n",
    "Corr.shape"
   ]
  },
  {
   "cell_type": "code",
   "execution_count": null,
   "metadata": {},
   "outputs": [],
   "source": [
    "fig, ax = plt.subplots()\n",
    "h = ax.imshow(Corr, cmap=\"seismic\", vmin=-1, vmax=+1, interpolation=\"none\")\n",
    "fig.colorbar(h, ax=ax, label=\"Correlation Coefficient $C_{ij}$\")\n",
    "ax.set_xlabel(\"Neuron i\")\n",
    "ax.set_ylabel(\"Neuron j\")"
   ]
  },
  {
   "cell_type": "markdown",
   "metadata": {},
   "source": [
    "The raster plot and the correlation matrix of `clust_var` are very disordered, and therefore very hard to read. Idealy we would like neurons which have similar activities in `clust_var` to be next to each other. But how do we do that ?\n",
    "\n",
    "### 1.4.1 Hierarchical Clustering\n",
    "\n",
    "To do that we will use another clustering method called **Hierarchical Clustering (HC)**. This method is very powerful, but unfortunately it requires a lot of cumputer power.  \n",
    "The idea is to start from a matrix of distances $\\Delta_{ij} = \\text{distance}(\\mathbf{x}_i, \\mathbf{x}_j)$ between different objects $\\mathbf{x}_1,...,\\mathbf{x}_D$, and then find a hierarchy of clusters based on $\\Delta_{i,j}$. We will not talk about the algorithm behind this as it can be quite complicated, but if you are interested you can start by reading the [wiki page](https://en.wikipedia.org/wiki/Hierarchical_clustering) on the subject.  \n",
    "Contrary to k-means where you need to specify the number of clusters you want from the start, HC builds the entire hierarchy, from 0 to $D$ clusters. And you can specify *a posteriori* the number of clusters $d$ you want.  \n",
    "There are also algorithms, like the **optimal leaf** which can reorder the hierarchy structure so that clusters which are next to each other look like each other.\n",
    "\n",
    "![HierClust](https://raw.githubusercontent.com/EmeEmu/IBIO-Banyuls2023-Python/main/img/HierClust.png)"
   ]
  },
  {
   "cell_type": "markdown",
   "metadata": {},
   "source": [
    "Let's start by computing the distance matrix $\\Delta_{ij}$. We can do that from the correlation matrix $C_{ij}$ by setting $\\Delta_{ij} = 1-C_{ij}$. Do you understand why ?  \n",
    "\n",
    "However, the librairy `scipy.cluster.hierarchy` we are going to use doesn't take a full distance matrix as input. Instead it takes what is called a *condensed distance matrix*, that is the upper triangle of the matrix (without the diagonal).\n",
    "\n",
    "➡️👤⌨️ **Compute the condensed distance matrix `condensed_dist` from `Corr`.** ➡️👤⌨️\n",
    "\n",
    "💡 you can use the function `np.triu_indices_from(X, k=+1)` to get the idices for the upper triangle elements of the matrix `X`."
   ]
  },
  {
   "cell_type": "code",
   "execution_count": null,
   "metadata": {},
   "outputs": [],
   "source": [
    "# ➡️👤⌨️\n",
    "condensed_dist = ..."
   ]
  },
  {
   "cell_type": "markdown",
   "metadata": {},
   "source": [
    "Now we will performe the Hierarchical Clustering. We first need to compute a *linkage matrix*."
   ]
  },
  {
   "cell_type": "code",
   "execution_count": null,
   "metadata": {},
   "outputs": [],
   "source": [
    "Z = hier.linkage(condensed_dist, metric=\"correlation\", method=\"ward\")"
   ]
  },
  {
   "cell_type": "markdown",
   "metadata": {},
   "source": [
    "Now we can apply the optimal leaf algoritm to optain the optimal ordering of the clusters. This is an optional step, but it makes all the plots much more pretty.\n",
    "\n",
    "⚠️ this step requires a lot of computer power. On Colab we will not be able to apply this algorithm on more than 2000 neurons."
   ]
  },
  {
   "cell_type": "code",
   "execution_count": null,
   "metadata": {},
   "outputs": [],
   "source": [
    "%%time\n",
    "if len(Z) < 2000:\n",
    "    opt_leaf = hier.optimal_leaf_ordering(Z, condensed_dist)\n",
    "    order = hier.leaves_list(opt_leaf)\n",
    "else:\n",
    "    print(\"With very big correlation matrix, this cell will take too long to run !\")\n",
    "    order = np.arange(len(Z)+1)"
   ]
  },
  {
   "cell_type": "markdown",
   "metadata": {},
   "source": [
    "Now we can re-plot the correlation matrix and the raster plot from earlier, and it will be much prettier !!"
   ]
  },
  {
   "cell_type": "code",
   "execution_count": null,
   "metadata": {},
   "outputs": [],
   "source": [
    "fig, ax = plt.subplots()\n",
    "h = ax.imshow(Corr[order][:,order], cmap=\"seismic\", vmin=-1, vmax=+1, interpolation=\"none\")\n",
    "fig.colorbar(h, ax=ax, label=\"Correlation Coefficient\")\n",
    "ax.set_xlabel(\"Neuron i\")\n",
    "ax.set_ylabel(\"Neuron j\")"
   ]
  },
  {
   "cell_type": "code",
   "execution_count": null,
   "metadata": {},
   "outputs": [],
   "source": [
    "fig, ax = plt.subplots(figsize=(12,6))\n",
    "l = np.abs(np.quantile(clust_var, [0.01, 0.99])).max()\n",
    "cr = ComplexRaster(\n",
    "    ax, clust_var[order],\n",
    "    signal=small_mu,\n",
    "    times=brain_time,\n",
    "    X_params={'cmap': 'seismic', 'vmin': -l, 'vmax': +l},\n",
    "    signal_params={'cmap': 'inferno', 'vmin': 0, 'vmax': 0.7},\n",
    ")\n",
    "cr._ax_sig.set_title(\"Cluster centroid\")\n",
    "fig.colorbar(cr._im_dff, ax=ax,label=r\"$\\Delta F/F - \\langle \\Delta F/F \\rangle_{k=\"+str(k)+\"}$\")"
   ]
  },
  {
   "cell_type": "markdown",
   "metadata": {},
   "source": [
    "Do you see the difference ? Can you see some interesting groups of neurons in the raster plot ?\n",
    "\n",
    "Now let's use the Hierarchical Clustering to identify interesting subclusters within our k-means cluster.  \n",
    "For the sake of time, we will not try to find the optimal number of clusters $d$ in our hierarchy. However in real life this is definitively something you would like to do, and there are many methods to do so.\n",
    "\n",
    "Here we will choose to have 7 clusters, and find the cluster labels associated to each neuron.\n",
    "\n",
    "❗ remember that curently we are not working with our 30k neurons, but only on the neurons in one of the k-means clusters."
   ]
  },
  {
   "cell_type": "code",
   "execution_count": null,
   "metadata": {},
   "outputs": [],
   "source": [
    "N_cut = 7\n",
    "h_labels = hier.cut_tree(Z, n_clusters=N_cut)[:,0]\n",
    "h_labels.shape"
   ]
  },
  {
   "cell_type": "markdown",
   "metadata": {},
   "source": [
    "➡️👤⌨️ **Compute the mean ΔF/F of each hierarchical cluster.** ➡️👤⌨️\n",
    "\n",
    "💡 you can use the function `extract_cluster_dffs` you made earlier."
   ]
  },
  {
   "cell_type": "code",
   "execution_count": null,
   "metadata": {},
   "outputs": [],
   "source": [
    "# ➡️👤⌨️\n",
    "mean_clust_act = np.empty((N_cut, small_dffs.shape[1]))\n",
    "..."
   ]
  },
  {
   "cell_type": "code",
   "execution_count": null,
   "metadata": {},
   "outputs": [],
   "source": [
    "fig, ax = plt.subplots(figsize=(12,6))\n",
    "cr = ComplexRaster(\n",
    "    ax, mean_clust_act,\n",
    "    signal=small_mu,\n",
    "    times=brain_time,\n",
    "    X_params={'cmap': 'inferno', 'vmin': 0, 'vmax': 0.7},\n",
    "    signal_params={'cmap': 'inferno', 'vmin': 0, 'vmax': 0.7},\n",
    ")\n",
    "cr.ax.set_ylabel(\"hierarchical clusters\")\n",
    "cr._ax_sig.set_title(\"k-means Cluster centroid\")\n",
    "fig.colorbar(cr._im_dff, ax=ax,label=r\"mean $\\Delta F/F$\")"
   ]
  },
  {
   "cell_type": "markdown",
   "metadata": {},
   "source": [
    "What do you think the difference is between those clusters ?  \n",
    "\n",
    "To figure that out, let's look at the tuning curves for each of those clusters. \n",
    "For a signal $s(t)$ evolving in the context of an experimental parameter $\\theta(t)$, the tuning curve is the function $s(\\theta)$ which tells you how this signal $s$ is *associated* with the parameter $\\theta$. In our case, $\\theta$ is the direction of the stimulus, and $s$ is the mean activity of the cluster."
   ]
  },
  {
   "cell_type": "markdown",
   "metadata": {},
   "source": [
    "On the interactive plot bellow, look at the mean activity of the hierarchical clusters and their tuning curves.  \n",
    "What is the difference between those clusters ?"
   ]
  },
  {
   "cell_type": "code",
   "execution_count": null,
   "metadata": {},
   "outputs": [],
   "source": [
    "def plot_hier_indv_clust(hk=0):\n",
    "    inds = np.where(h_labels==hk)[0]\n",
    "    fig = plt.figure(figsize=(12,4))\n",
    "    gs = fig.add_gridspec(ncols=2, width_ratios=[0.75, 0.25])\n",
    "    ax = fig.add_subplot(gs[0])\n",
    "    mean = small_dffs[inds].mean(axis=0)\n",
    "    std = small_dffs[inds].std(axis=0)\n",
    "    ax.plot(brain_time, small_mu, label=\"k-means centroid\", color=\"red\")\n",
    "    ax.plot(brain_time, mean, color=\"k\", label=\"hierarchical clusters mean\")\n",
    "    ax.fill_between(brain_time, mean+std, mean-std, color=\"k\", alpha=0.25, label=\"hierarchical clusters std\")\n",
    "    ax.set_xlim(brain_time[0], brain_time[-1])\n",
    "    ax.set_ylim(small_dffs.min(), small_dffs.max())\n",
    "    ax.set_xlabel(\"Time (s)\")\n",
    "    ax.set_ylabel(\"mean cluster ΔF/F\")\n",
    "    ax.legend()\n",
    "    ax = fig.add_subplot(gs[1])\n",
    "    plot_tuning_curve(ax, direction, small_dffs[inds].mean(axis=0))\n",
    "    ax.set_xlabel(\"Stimulus Direction (degree)\")\n",
    "    ax.set_ylabel(\"mean cluster ΔF/F\")\n",
    "    ax.legend()\n",
    "    plt.show()\n",
    "widgets.interact(plot_hier_indv_clust, hk=(0,N_cut-1, 1))"
   ]
  },
  {
   "cell_type": "code",
   "execution_count": null,
   "metadata": {},
   "outputs": [],
   "source": []
  },
  {
   "cell_type": "code",
   "execution_count": null,
   "metadata": {},
   "outputs": [],
   "source": []
  },
  {
   "cell_type": "markdown",
   "metadata": {},
   "source": [
    "# 2. PCA\n",
    "\n",
    "In this section, we will use Principle Componant Analysis (PCA) the reduce the dimentionality of of our neuron-activity data.  \n",
    "\n",
    "**A quick reminder about PCA :**\n",
    "\n",
    "PCA is a dimentionality reduction technique which tries to loose as little information as possible. How does it do this ?  \n",
    "Imagine your data exists in $D$ dimentions, each of your observations will be a point $\\mathbf{x} = (x_1, ..., x_D)$ in this $D$dimentions space. PCA creates a linear transformation $T$, from $\\mathbf{x}$ to $\\mathbf{y} = (y_1, ..., y_d)$ : $$\\mathbf{y} = \\mathbf{x} \\mathbf{T}$$\n",
    "with $d<D$ (the output space is smaller than the input space).  \n",
    "The linear transformation $T$ can be seen as a coordinate change (see diagram).  \n",
    "In simplified terms, PCA will try to find the directions in $D$space, along which your data has the most information."
   ]
  },
  {
   "cell_type": "markdown",
   "metadata": {},
   "source": [
    "## 2.1 Building your intuition of PCA"
   ]
  },
  {
   "cell_type": "markdown",
   "metadata": {},
   "source": [
    "Let's try to build an intuition for what PCA does by first looking at a couple of neurons.  \n",
    "➡️👤⌨️ **Select 1000 neurons at random, and compute the correlation matrix between them.** ➡️👤⌨️"
   ]
  },
  {
   "cell_type": "code",
   "execution_count": null,
   "metadata": {},
   "outputs": [],
   "source": [
    "# ➡️👤⌨️\n",
    "n = 1000\n",
    "...\n",
    "C = ...\n",
    "assert C.shape==(n,n), \"Your correlation matrix is not the right shape.\""
   ]
  },
  {
   "cell_type": "code",
   "execution_count": null,
   "metadata": {},
   "outputs": [],
   "source": [
    "fig, ax = plt.subplots()\n",
    "ax.hist(C[np.triu_indices_from(C, k=+1)], bins=100, color=\"k\", density=True);\n",
    "ax.set_xlim(-1,+1)\n",
    "ax.set_xlabel(\"Correlation Coefficient $C_{i,j}$\")\n",
    "ax.set_ylabel(\"Density\")\n",
    "ax.set_title(f\"Correlation between pairs of neurons \\n ({n} random neurons)\")"
   ]
  },
  {
   "cell_type": "markdown",
   "metadata": {},
   "source": [
    "As you can see, most of the pairwise correlation coefficients $C_{ij}$ are around $0$, meaning that a lot of neurons are not correlated with each other. **However**, there is still a lot of *strong* positive and negative correlations, which means that some neurons have very similar activities, and others have very *opposite* activities.\n",
    "\n",
    "As a very easy first example, let's look at just 3 neurons.  \n",
    "➡️👤⌨️ **Compute the paiwise correlations matrix between those 3 neurons.** ➡️👤⌨️ Can you guess why we choose those 3 neurons ?"
   ]
  },
  {
   "cell_type": "code",
   "execution_count": null,
   "metadata": {},
   "outputs": [],
   "source": [
    "i,j,k = 15108, 16194, 15735"
   ]
  },
  {
   "cell_type": "code",
   "execution_count": null,
   "metadata": {},
   "outputs": [],
   "source": [
    "# ➡️👤⌨️\n",
    "dff3 = np.stack([dffs[i], dffs[j], dffs[k]])\n",
    "C3 = ...\n",
    "C3"
   ]
  },
  {
   "cell_type": "markdown",
   "metadata": {},
   "source": [
    "Let's look at the activity of those 3 neurons as a 3D parametric plot : $$\\vec{X}(t) = \\begin{pmatrix} x(t) \\\\ y(t) \\\\ z(t) \\end{pmatrix} = \\begin{pmatrix} \\text{dff}_i(t) \\\\ \\text{dff}_j(t) \\\\ \\text{dff}_k(t) \\end{pmatrix}$$"
   ]
  },
  {
   "cell_type": "code",
   "execution_count": null,
   "metadata": {},
   "outputs": [],
   "source": [
    "fig = plt.figure(figsize=(12,6))\n",
    "ax = fig.add_subplot(projection='3d', aspect=\"auto\")\n",
    "ax.scatter(dff3[0], dff3[1], dff3[2], alpha=0.1, color=\"k\")\n",
    "ax.set_xlabel(\"neuron i\") ; ax.set_ylabel(\"neuron j\") ; ax.set_zlabel(\"neuron k\")"
   ]
  },
  {
   "cell_type": "markdown",
   "metadata": {},
   "source": [
    "What can you say about the way $\\vec{X}$ is distributed in this 3D space ?  \n",
    "Instead of the orthogonal basis $(\\vec{x},\\vec{y},\\vec{z})$ axes, can you find other set of axes would describe this data in a simpler way ?\n",
    "\n",
    "Well this is exactly what PCA does !"
   ]
  },
  {
   "cell_type": "code",
   "execution_count": null,
   "metadata": {},
   "outputs": [],
   "source": [
    "pca = PCA(n_components=3)\n",
    "pca.fit(dff3.T)"
   ]
  },
  {
   "cell_type": "code",
   "execution_count": null,
   "metadata": {},
   "outputs": [],
   "source": [
    "fig = plt.figure(figsize=(12,6))\n",
    "ax = fig.add_subplot(projection='3d', aspect=\"auto\")\n",
    "ax.scatter(dff3[0], dff3[1], dff3[2], alpha=0.1, color=\"k\")\n",
    "ax.set_xlabel(\"neuron i\") ; ax.set_ylabel(\"neuron j\") ; ax.set_zlabel(\"neuron k\")\n",
    "\n",
    "for c in range(pca.n_components):\n",
    "    a = pca.mean_\n",
    "    b = pca.mean_+pca.components_[c]#*pca.explained_variance_ratio_[c]\n",
    "    ax.plot([a[0], b[0]], [a[1], b[1]], [a[2], b[2]], color=\"red\", linewidth=(pca.explained_variance_ratio_[c]*10)+2)"
   ]
  },
  {
   "cell_type": "code",
   "execution_count": null,
   "metadata": {},
   "outputs": [],
   "source": [
    "pca.explained_variance_ratio_"
   ]
  },
  {
   "cell_type": "code",
   "execution_count": null,
   "metadata": {},
   "outputs": [],
   "source": [
    "pca.explained_variance_ratio_.sum()"
   ]
  },
  {
   "cell_type": "markdown",
   "metadata": {},
   "source": [
    "## 2.2 Breaking your intuition of PCA\n",
    "\n",
    "Now that you have a better idea of how PCA works, let's illustrate why the results of PCA are often very hard to interpret.  \n",
    "\n",
    "In this section we will create fake neuronal data which has some perticular temporal structure, apply PCA on this data, and try to interpret the results.\n",
    "\n",
    "To create our fake neuronal data we will use the following 2 functions : \n",
    "- `fake_bump` which creates the ΔF/F of a spike train for a single neuron.\n",
    "- `fake_chirp` which creates a ΔF/F matrix of `N` neurons which fire onces, one after the other.\n",
    "\n",
    "![Fake data](https://raw.githubusercontent.com/EmeEmu/IBIO-Banyuls2023-Python/main/img/FakeChirp.png)"
   ]
  },
  {
   "cell_type": "code",
   "execution_count": null,
   "metadata": {},
   "outputs": [],
   "source": [
    "fig, ax = plt.subplots()\n",
    "ax.plot(brain_time, fake_bump(brain_time, [150,180,200,300], tau=10))\n",
    "ax.set_xlabel(\"Time (s)\")\n",
    "ax.set_ylabel(\"Fake ΔF/F\")"
   ]
  },
  {
   "cell_type": "markdown",
   "metadata": {},
   "source": [
    "➡️👤⌨️ **Use `fake_chirp` to create fake ΔF/F for 300 neurons with a characteristic calcium time constant $\\tau=30s$** ➡️👤⌨️  \n",
    "(you can use `brain_time` as the `ts`)"
   ]
  },
  {
   "cell_type": "code",
   "execution_count": null,
   "metadata": {},
   "outputs": [],
   "source": [
    "# ➡️👤⌨️ \n",
    "fake_dff = ..."
   ]
  },
  {
   "cell_type": "code",
   "execution_count": null,
   "metadata": {},
   "outputs": [],
   "source": [
    "fig, ax = plt.subplots(figsize=(12,6))\n",
    "cr = ComplexRaster(ax, fake_dff,times=brain_time,X_params={'cmap': 'inferno', 'vmin': 0, 'vmax': 0.5},)\n",
    "fig.colorbar(cr._im_dff, ax=ax,label=\"Fake ΔF/F\")"
   ]
  },
  {
   "cell_type": "markdown",
   "metadata": {},
   "source": [
    "Now let's perform a PCA on this fake data, and project it onto the PCA componants.\n",
    "\n",
    "Projecting onto the PCA componants means that we will take our ΔF/F (which is in $D$ dimentions) and map it onto the PCA components (which are in $d$ dimentions). This is why PCA is a dimentionality reduction method $D→d$. Mathematicaly this is done like so : $$\\mathbf{y} = \\mathbf{x} \\mathbf{T}$$, with $\\mathbf{x}$ the ΔF/F matrix, $\\mathbf{T}$ the PCA transformation, and $\\mathbf{y}$ the projection."
   ]
  },
  {
   "cell_type": "code",
   "execution_count": null,
   "metadata": {},
   "outputs": [],
   "source": [
    "pca = PCA(n_components=100)\n",
    "pca.fit(fake_dff.T)\n",
    "Y = pca.transform(fake_dff.T)"
   ]
  },
  {
   "cell_type": "markdown",
   "metadata": {},
   "source": [
    "➡️👤⌨️ *Using `np.cumsum`, compute the cumulative explained variance curve.* ➡️👤⌨️\n",
    "\n",
    "💡 the cumulative explained variance curve  : $$\\text{cvar}(p) = \\sum_{i=0}^{p-1}\\text{var}(i)$$ where $\\text{var}(i)$ is the explained variance ratio of the PCA componant $i$"
   ]
  },
  {
   "cell_type": "code",
   "execution_count": null,
   "metadata": {},
   "outputs": [],
   "source": [
    "# ➡️👤⌨️\n",
    "cumul_explained_var = ..."
   ]
  },
  {
   "cell_type": "code",
   "execution_count": null,
   "metadata": {},
   "outputs": [],
   "source": [
    "fig, ax = plt.subplots()\n",
    "ax.plot(cumul_explained_var*100, \"-o\",color=\"k\")\n",
    "ax.set_ylim(0,100)\n",
    "ax.set_xlabel(\"PCA component - $p$\")\n",
    "ax.set_ylabel(r\"$cvar(p)$ (%)\")"
   ]
  },
  {
   "cell_type": "markdown",
   "metadata": {},
   "source": [
    "As you can see, the first $\\approx 20$ componants explain most of the variance. And with 100 componants, our PCA explain in total around $95\\%$ of the variance."
   ]
  },
  {
   "cell_type": "markdown",
   "metadata": {},
   "source": [
    "Before going any further, make a prediction in your head : **What do you expect the first few components of PCA to look like ?**  \n",
    "Let's see if you were right 🤔"
   ]
  },
  {
   "cell_type": "code",
   "execution_count": null,
   "metadata": {},
   "outputs": [],
   "source": [
    "fig, ax = plt.subplots()\n",
    "for p in range(3):\n",
    "    ax.plot(brain_time, Y[:,p], label=f\"PC{p}\")\n",
    "ax.legend()\n",
    "ax.set_xlabel(\"Time (fake s)\")\n",
    "ax.set_ylabel(\"Projected Fake ΔF/F\")"
   ]
  },
  {
   "cell_type": "code",
   "execution_count": null,
   "metadata": {},
   "outputs": [],
   "source": [
    "fig = plt.figure(figsize=(12,6))\n",
    "ax = fig.add_subplot(projection='3d', aspect=\"auto\")\n",
    "ax.plot(Y[:,0], Y[:,1], Y[:,2], color=\"k\")\n",
    "h = ax.scatter(Y[:,0], Y[:,1], Y[:,2], c=brain_time, cmap=\"cool\")\n",
    "fig.colorbar(h, ax=ax, label=\"Time (fake s)\")\n",
    "ax.set_xlabel(\"PC0\") ; ax.set_ylabel(\"PC1\") ; ax.set_zlabel(\"PC2\")"
   ]
  },
  {
   "cell_type": "markdown",
   "metadata": {},
   "source": [
    "Did you expect that ?? How would you interpret these PCA componants ?\n",
    "\n",
    "To try and better understand what is going on here, lets look at the coefficients of the PCA transformation matrix $T_{pn}$ (with $p$ being each componant and $n$ each neuron)."
   ]
  },
  {
   "cell_type": "code",
   "execution_count": null,
   "metadata": {},
   "outputs": [],
   "source": [
    "def plot_fake_pca_coeffs(p=0):\n",
    "    fig, ax = plt.subplots()\n",
    "    x = np.arange(fake_dff.shape[0])\n",
    "    ax.scatter(x, pca.components_[p])\n",
    "    ax.set_xlabel(\"Fake Neurons\")\n",
    "    ax.set_ylabel(r\"$T_{pn}$\")\n",
    "    plt.show()\n",
    "widgets.interact(plot_fake_pca_coeffs, p=(0,10, 1))"
   ]
  },
  {
   "cell_type": "markdown",
   "metadata": {},
   "source": [
    "As you can see, the components have hight and low coefficients for multiple neurons, which are not necessarily next to each other (meaning that they don't fire during the same time intervals).  \n",
    "\n",
    "This illustrates a very important aspect of PCA : **PCA is not Clustering !!!**  \n",
    "A component of PCA does not represent a group of neurons with a perticular activity. PCA components represent modes of activity of the data, which can be much harder to interpret. (in the perticular case of `fake_chirp` these modes are Fourier modes, similar to what you can see on [this video](https://youtu.be/PVX4V5Adbzk?t=23))  \n",
    "\n",
    "If you are interested in learning more about this, you can do the rest of this section which will involve creating random fake data and re-running the same analysis as we did above. However **this is optional, you can move directly to section 2.3 if you want**.\n",
    "\n",
    "➡️👤⌨️ **Complete the following function to create random ΔF/F matrix. Then generate fake data for 300 neurons, with a characteristic calcium time constant $\\tau=30s$, and on average 5 spikes per neurons. Then re-run the last few cells (starting  with the last raster plot) to see what the PCA on this data looks like.** ➡️👤⌨️\n",
    "\n",
    "What can you conclude ?"
   ]
  },
  {
   "cell_type": "code",
   "execution_count": null,
   "metadata": {},
   "outputs": [],
   "source": [
    "def fake_poisson(ts, N=30, tau=10, lamb=5):\n",
    "    \"\"\"Create ΔF/F matrix of random neuron activation.\n",
    "\n",
    "    We want the probability that each neuron spikes at a \n",
    "    given time point to follow a poisson distribution.\n",
    "    \n",
    "    Parameters :\n",
    "    ------------\n",
    "    :ts: 1D array\n",
    "        times at which we \"observe\" the neurons.\n",
    "    :N: int\n",
    "        number of neurons\n",
    "    :tau: float\n",
    "        characteristic time of the calcium decay.\n",
    "    :lam: float\n",
    "        average number of spikes per neuron.\n",
    "\n",
    "    Return :\n",
    "    :Y: 2D array, (N, len(:ts:))\n",
    "        ΔF/F associated with the spike trains.\n",
    "    \"\"\"\n",
    "    Y = np.empty((N,len(ts)))\n",
    "    for i in range(N):\n",
    "        # ➡️👤⌨️\n",
    "        ...\n",
    "        # ➡️👤⌨️\n",
    "    return Y"
   ]
  },
  {
   "cell_type": "code",
   "execution_count": null,
   "metadata": {},
   "outputs": [],
   "source": [
    "# ➡️👤⌨️\n",
    "fake_dff = ..."
   ]
  },
  {
   "cell_type": "code",
   "execution_count": null,
   "metadata": {},
   "outputs": [],
   "source": []
  },
  {
   "cell_type": "markdown",
   "metadata": {},
   "source": [
    "## 2.3 Finding how many components to keep\n",
    "\n",
    "Every time we perform a dimentionality reduction $D → d$, we have have to ask ourselves *what is $d$ ?* This question can be quite tricky to answer.\n",
    "\n",
    "In the case of PCA, $d$ is the number of components. In this section, we will see an easy method to determine how many components to keep during a PCA. This method is called a [Scree plot](https://en.wikipedia.org/wiki/Scree_plot) or [Elbow Method](https://en.wikipedia.org/wiki/Elbow_method_(clustering)). (❗ this method is not perfect and should be used with care, we encourage you to read on the subject before using it in publication)"
   ]
  },
  {
   "cell_type": "markdown",
   "metadata": {},
   "source": [
    "➡️👤⌨️ First, lets **make a PCA with a large number of components `n_components=100`, fit it with `dffs`, and project.** ➡️👤⌨️ "
   ]
  },
  {
   "cell_type": "code",
   "execution_count": null,
   "metadata": {
    "scrolled": true
   },
   "outputs": [],
   "source": [
    "# ➡️👤⌨️\n",
    "pca = ...\n",
    "...\n",
    "Y = ..."
   ]
  },
  {
   "cell_type": "markdown",
   "metadata": {},
   "source": [
    "➡️👤⌨️ Now, **compute $\\text{cvar}(p)$.** ➡️👤⌨️"
   ]
  },
  {
   "cell_type": "code",
   "execution_count": null,
   "metadata": {},
   "outputs": [],
   "source": [
    "# ➡️👤⌨️ \n",
    "cum_exp_var = ..."
   ]
  },
  {
   "cell_type": "code",
   "execution_count": null,
   "metadata": {},
   "outputs": [],
   "source": [
    "fig, ax = plt.subplots()\n",
    "x = np.arange(1,pca.n_components+1)\n",
    "ax.plot(x, cum_exp_var, color=\"k\")\n",
    "ax.set_ylabel(r\"$cvar(p)$\")\n",
    "ax.set_xlabel(r\"$p$\")\n",
    "ax.set_ylim(0,1)\n",
    "ax.set_xlim(0,x.max())"
   ]
  },
  {
   "cell_type": "markdown",
   "metadata": {},
   "source": [
    "Now let's find the *elbow* in the curve, that is, the point at which the curve has maximum curvature. We will do this using the `KneeLocator` function from the `kneed` librairy."
   ]
  },
  {
   "cell_type": "code",
   "execution_count": null,
   "metadata": {},
   "outputs": [],
   "source": [
    "kl = KneeLocator(x, cum_exp_var, curve=\"concave\", direction=\"increasing\")\n",
    "\n",
    "ax.scatter(kl.elbow, cum_exp_var[kl.elbow-1], color=\"k\")\n",
    "ax.vlines(kl.elbow, 0, cum_exp_var[kl.elbow-1], color=\"k\", linestyle=\"--\")\n",
    "ax.hlines(cum_exp_var[kl.elbow-1], 0, kl.elbow, color=\"k\", linestyle=\"--\")\n",
    "ax.text(kl.elbow+1, cum_exp_var[kl.elbow-1]/2, f\"elbow = {kl.elbow} componants\", ha=\"left\", va=\"center\", rotation=\"vertical\")\n",
    "ax.text(kl.elbow/2, cum_exp_var[kl.elbow-1]+0.01, f\"{cum_exp_var[kl.elbow-1]*100:0.1f}%\", ha=\"center\", va=\"bottom\")\n",
    "print(\"the previous plot was updated\")"
   ]
  },
  {
   "cell_type": "markdown",
   "metadata": {},
   "source": [
    "From this quick analysis, it seams that **16 components of PCA** is enough. It will discribe ~76% of the data variance which is quite good."
   ]
  },
  {
   "cell_type": "markdown",
   "metadata": {},
   "source": [
    "## 2.4 Apply to the data\n",
    "\n",
    "Now that we know how many components to keep, let's create a PCA projection and investigate what it tells us aout our data.\n",
    "\n",
    "First lets fit the transformation:"
   ]
  },
  {
   "cell_type": "code",
   "execution_count": null,
   "metadata": {},
   "outputs": [],
   "source": [
    "pca = PCA(n_components=16)\n",
    "pca.fit(dffs.T)\n",
    "Y = pca.transform(dffs.T)"
   ]
  },
  {
   "cell_type": "markdown",
   "metadata": {},
   "source": [
    "➡️👤⌨️ **Get the percentage of explained variance for each component and the total explained variance.**  ➡️👤⌨️ "
   ]
  },
  {
   "cell_type": "code",
   "execution_count": null,
   "metadata": {
    "scrolled": true
   },
   "outputs": [],
   "source": [
    "# ➡️👤⌨️ \n",
    "exp_var = ...\n",
    "exp_var_tot = ...\n",
    "exp_var_tot"
   ]
  },
  {
   "cell_type": "code",
   "execution_count": null,
   "metadata": {},
   "outputs": [],
   "source": [
    "print(f\"Total explained variance = {exp_var_tot*100:0.1f}%\")\n",
    "fig, ax = plt.subplots()\n",
    "ax.plot(np.arange(1, pca.n_components+1), exp_var*100, \"-o\", color=\"k\")\n",
    "ax.set_xlabel(\"PCA components\")\n",
    "ax.set_ylabel(\"% explained variance per component\");"
   ]
  },
  {
   "cell_type": "markdown",
   "metadata": {},
   "source": [
    "You can see that the first ~4 components explain most of the variance.\n",
    "\n",
    "Let's now look at the projected ΔF/F `Y`."
   ]
  },
  {
   "cell_type": "code",
   "execution_count": null,
   "metadata": {},
   "outputs": [],
   "source": [
    "fig, ax = plt.subplots(figsize=(15,5))\n",
    "h = ax.imshow(Y.T, aspect=\"auto\", cmap=\"plasma\", interpolation=\"none\", vmin=-10, vmax=+10)\n",
    "fig.colorbar(h, ax=ax, label=\"Projected DFF\")\n",
    "ax.set_yticks(\n",
    "    np.arange(pca.n_components), \n",
    "    labels=[f\"PC{i:3} ({pca.explained_variance_ratio_[i]*100:5.1f}%)\" for i in range(pca.n_components)],\n",
    ");\n",
    "x = np.linspace(0,len(brain_time)-1, 6, dtype=int)\n",
    "ax.set_xticks(x, labels=brain_time[x].astype(int))\n",
    "ax.set_xlabel(\"Time (s)\")\n",
    "ax.set_ylabel(\"PCA Componants\")"
   ]
  },
  {
   "cell_type": "code",
   "execution_count": null,
   "metadata": {},
   "outputs": [],
   "source": [
    "fig, ax_libo = plt.subplots(figsize=(12,4))\n",
    "line, = ax_libo.plot(brain_time, Y[:,0], color=\"k\")\n",
    "ax_libo.set_xlabel(\"Time (s)\")\n",
    "ax_libo.set_ylabel(\"Projected ΔF/F\")\n",
    "ax_libo.set_title(\"PC 0\")\n",
    "\n",
    "def update(change):\n",
    "    i = change.new\n",
    "    y = Y[:,i]\n",
    "    line.set_ydata(y)\n",
    "    ax_libo.set_ylim(y.min(), y.max())\n",
    "    ax_libo.set_title(f\"PC {i}\")\n",
    "    fig.canvas.draw()\n",
    "slid = widgets.IntSlider(value=0, min=0, max=pca.n_components-1, step=1, description=\"Component :\")\n",
    "slid.observe(update, names=\"value\")\n",
    "slid"
   ]
  },
  {
   "cell_type": "markdown",
   "metadata": {},
   "source": [
    "What can you say about this projected activity ?  \n",
    "Does it look structured ?  \n",
    "Which components seem to hold most of the information ? Which components seem to be most interpretable ?"
   ]
  },
  {
   "cell_type": "markdown",
   "metadata": {},
   "source": [
    "As we said before, one of the key features of PCA is that all components are *orthogonal* to each other. This means that they are independent of each other.\n",
    "\n",
    "➡️👤⌨️ **Show that the components are not correlated with each other.** ➡️👤⌨️\n",
    "\n",
    "💡 you can use the function `np.corrcoef`."
   ]
  },
  {
   "cell_type": "code",
   "execution_count": null,
   "metadata": {},
   "outputs": [],
   "source": [
    "# ➡️👤⌨️\n",
    "C_comp = ..."
   ]
  },
  {
   "cell_type": "code",
   "execution_count": null,
   "metadata": {},
   "outputs": [],
   "source": [
    "fig, ax = plt.subplots()\n",
    "ax.hist(C_comp[np.triu_indices_from(C_comp, k=+1)], bins=np.linspace(-1,+1, 100), density=True);\n",
    "ax.set_xlim(-1,1)\n",
    "ax.set_xlabel(\"Correlation Coefficient\")\n",
    "ax.set_ylabel(\"Density\")"
   ]
  },
  {
   "cell_type": "markdown",
   "metadata": {},
   "source": [
    "Now let's look in more detail at each PCA component, how the coefficients are distributed in the brain, and the activity of neurons ordered by their coefficients.  \n",
    "Which components seem the most meaningfull to you ?"
   ]
  },
  {
   "cell_type": "code",
   "execution_count": null,
   "metadata": {},
   "outputs": [],
   "source": [
    "order = np.argsort(pca.components_[0])[::-1]\n",
    "wr = 0.2\n",
    "fig = plt.figure(figsize=(15,5))\n",
    "gs = GridSpec(nrows=1,ncols=2, figure=fig, width_ratios=[wr, 1-wr])\n",
    "\n",
    "subfig1 = fig.add_subfigure(gs[0,0])\n",
    "ortho = OrthoAxes(subfig1, coords, interactive=False)\n",
    "scat = ortho.scatter(coords, c=pca.components_[0], cmap=\"seismic\", vmin=-0.01, vmax=+0.01, alpha=0.1, s=5)\n",
    "\n",
    "subfig2 = fig.add_subfigure(gs[0,1])\n",
    "title = subfig2.suptitle(\"Component 0\")\n",
    "ax = subfig2.add_subplot(111)\n",
    "pca_cr = PCA_raster(ax, dffs, pca, times=brain_time, k=0)\n",
    "\n",
    "def update(change):\n",
    "    k = change.new\n",
    "    ortho.change_color(scat, pca.components_[k])\n",
    "    pca_cr.change_component(k)\n",
    "    title.set_text(f\"Component {k}\")\n",
    "    fig.canvas.draw()\n",
    "\n",
    "slid = widgets.IntSlider(value=0, min=0, max=pca.n_components-1, step=1, description=\"Component :\")\n",
    "slid.observe(update, names=\"value\")\n",
    "slid"
   ]
  },
  {
   "cell_type": "code",
   "execution_count": null,
   "metadata": {},
   "outputs": [],
   "source": []
  },
  {
   "cell_type": "markdown",
   "metadata": {},
   "source": [
    "## 2.5 Interpretability of the PCA components\n",
    "\n",
    "When looking at the projected ΔF/F activity on the different PCA components, were you able to interpret the signal ?  \n",
    "Have you identified perticular components which seem to be related to tail motion or to the stimulus ?\n",
    "\n",
    "In this section we will try to get a better understanding of what the different components *represent*. We will **first focus on the visual stimulus.**\n",
    "\n",
    "➡️👤⌨️ Let's start by **computing the correlation coefficient `cor_comp_dir` between the direction of the stimulus `direction` and the projected ΔF/F `Y`.** ➡️👤⌨️\n",
    "\n",
    "⚠️ `direction` contains NaNs, and `np.corrcoef` cannot deal with NaNs. You will need to use the function `np.isfinite` to find where `direction`$\\neq$NaN.  \n",
    "⚠️ `cor_comp_dir` should be a 1D array."
   ]
  },
  {
   "cell_type": "code",
   "execution_count": null,
   "metadata": {},
   "outputs": [],
   "source": [
    "# ➡️👤⌨️\n",
    "...\n",
    "cor_comp_dir = ..."
   ]
  },
  {
   "cell_type": "code",
   "execution_count": null,
   "metadata": {},
   "outputs": [],
   "source": [
    "cor_comp_dir"
   ]
  },
  {
   "cell_type": "code",
   "execution_count": null,
   "metadata": {},
   "outputs": [],
   "source": [
    "fig = plt.figure(figsize=(2*7, 5))\n",
    "gs = fig.add_gridspec(nrows=1, ncols=2, width_ratios=[0.25, 0.75])\n",
    "ax2c = \"red\"\n",
    "\n",
    "ax0 = fig.add_subplot(gs[0,0])\n",
    "colors = [\"k\" for _ in range(pca.n_components)]\n",
    "colors[0] = ax2c\n",
    "ax0.bar(np.arange(pca.n_components), cor_comp_dir, color=colors)\n",
    "ax0.set_ylim(-1,+1)\n",
    "ax0.set_xlabel(\"Components\")\n",
    "ax0.set_ylabel(\"Correlation Coefficient\")\n",
    "\n",
    "ax1 = fig.add_subplot(gs[0,1])\n",
    "ax2 = ax1.twinx()\n",
    "ax1.plot(brain_time, direction, linewidth=3, color=\"k\")\n",
    "line, = ax2.plot(brain_time, Y[:,0], color=ax2c)\n",
    "ax1.set_xlabel(\"Time (s)\")\n",
    "ax1.set_ylabel(\"Direction (degree)\")\n",
    "lab = ax2.set_ylabel(\"PC0\", color=ax2c)\n",
    "ax2.tick_params(axis='y', labelcolor=ax2c)\n",
    "\n",
    "def update(change):\n",
    "    k = change.new\n",
    "    colors = [\"k\" for _ in range(pca.n_components)]\n",
    "    colors[k] = ax2c\n",
    "    ax0.bar(np.arange(pca.n_components), cor_comp_dir, color=colors)\n",
    "    line.set_ydata(Y[:,k])\n",
    "    lab.set_text(f\"PC{k}\")\n",
    "    ax2.set_ylim(Y[:,k].min(), Y[:,k].max())\n",
    "    fig.canvas.draw()\n",
    "\n",
    "slid = widgets.IntSlider(value=0, min=0, max=pca.n_components-1, step=1, description=\"Component :\")\n",
    "slid.observe(update, names=\"value\")\n",
    "slid"
   ]
  },
  {
   "cell_type": "markdown",
   "metadata": {},
   "source": [
    "So according to you, is there one PCA component which decodes the stimulus direction ? Only the stimulus direction ?  \n",
    "Recompute above the correlation vector, but this time for `flow_on` insteed of direction. Same question ..."
   ]
  },
  {
   "cell_type": "markdown",
   "metadata": {},
   "source": [
    "Let's look at the tuning curves for the different components.  \n",
    "According to you, which component(s) is/are clearly tuned towards certain stimulus directions ?"
   ]
  },
  {
   "cell_type": "code",
   "execution_count": null,
   "metadata": {},
   "outputs": [],
   "source": [
    "def plot_tuning_curve_ann(k=0):\n",
    "    fig, ax = plt.subplots()\n",
    "    plot_tuning_curve(ax, direction, Y[:,k])\n",
    "    ax.set_title(f\"Tuning Curve - Component {k}\")\n",
    "    ax.set_xlabel(\"Direction (degree)\")\n",
    "    ax.set_ylabel(f\"PC {k}\")\n",
    "    plt.show()\n",
    "widgets.interact(plot_tuning_curve_ann, k=(0,pca.n_components-1,1))"
   ]
  },
  {
   "cell_type": "code",
   "execution_count": null,
   "metadata": {},
   "outputs": [],
   "source": []
  },
  {
   "cell_type": "markdown",
   "metadata": {},
   "source": [
    "As you saw, there is no unique component clearly dedicated to the stimulus orientation. However, this doesn't neceseraly mean that the information about orientation has been lost during $D→d$. The orientation could still be encoded has a combinaison of multiple components.   \n",
    "Thus, let's see what happens if we combine multiple components in a 2D space. \n",
    "\n",
    "By changing the 2 componants displayed in x and y, **can you find interesting ways to split the 2D space into stimulus-relevant regions ? Does it help at all to better interpret the PCA components ?**"
   ]
  },
  {
   "cell_type": "code",
   "execution_count": null,
   "metadata": {},
   "outputs": [],
   "source": [
    "fig, ax = plt.subplots()\n",
    "h = ax.scatter(Y[:,0], Y[:,1],c=direction, cmap=plt.cm.hsv, vmin=-180, vmax=+180, edgecolor=\"grey\")\n",
    "plot_angle_colorbar(h, label=\"Direction (degree)\")\n",
    "labx = ax.set_xlabel(\"PC0\")\n",
    "laby = ax.set_ylabel(\"PC1\")\n",
    "k,l = 0,1\n",
    "data = np.c_[(Y[:,k], Y[:,l])]\n",
    "h.set_offsets(data)\n",
    "def updateboth():\n",
    "    labx.set_text(f\"PC{k}\")\n",
    "    laby.set_text(f\"PC{l}\")\n",
    "    data = np.c_[(Y[:,k], Y[:,l])]\n",
    "    h.set_offsets(data)\n",
    "    ax.set_xlim(Y[:,k].min()-1, Y[:,k].max()+1)\n",
    "    ax.set_ylim(Y[:,l].min()-1, Y[:,l].max()+1)\n",
    "    fig.canvas.draw()\n",
    "def updatex(change):\n",
    "    global k \n",
    "    k = change.new\n",
    "    updateboth()\n",
    "def updatey(change):\n",
    "    global l\n",
    "    l = change.new\n",
    "    updateboth()\n",
    "slidx = widgets.IntSlider(value=0, min=0, max=pca.n_components-1, step=1, description=\"X Component :\")\n",
    "slidx.observe(updatex, names=\"value\")\n",
    "slidy = widgets.IntSlider(value=1, min=0, max=pca.n_components-1, step=1, description=\"Y Component :\")\n",
    "slidy.observe(updatey, names=\"value\")\n",
    "widgets.VBox([slidx, slidy])"
   ]
  },
  {
   "cell_type": "markdown",
   "metadata": {},
   "source": [
    "Let's do the same thing, but this time in 3D."
   ]
  },
  {
   "cell_type": "code",
   "execution_count": null,
   "metadata": {},
   "outputs": [],
   "source": [
    "def plot_3d_pca(i=0,j=1,k=2):\n",
    "    fig3 = plt.figure(figsize=(12,6))\n",
    "    ax3 = fig3.add_subplot(projection='3d', aspect=\"auto\")\n",
    "    h3 = ax3.plot(Y[:,i], Y[:,j], Y[:,k], color=\"k\")\n",
    "    h3 = ax3.scatter(Y[:,i], Y[:,j], Y[:,k], c=direction, cmap=plt.cm.hsv, s=50, vmin=-180, vmax=+180, edgecolor=\"grey\")\n",
    "    plot_angle_colorbar(h, ax=ax3, label=\"Direction (degree)\")\n",
    "    lab3x = ax3.set_xlabel(f\"PC {i}\")\n",
    "    lab3y = ax3.set_ylabel(f\"PC {j}\")\n",
    "    lab3z = ax3.set_zlabel(f\"PC {k}\")\n",
    "    plt.show()\n",
    "\n",
    "nnn = pca.n_components-1\n",
    "widgets.interact(plot_3d_pca, i=(0,nnn,1), j=(0,nnn,1), k=(0,nnn,1))"
   ]
  },
  {
   "cell_type": "markdown",
   "metadata": {},
   "source": [
    "Were you able to find a pair (or triplet) of components for which you can split 2D (or 3d) space according to stimulus direction ?  \n",
    "**If so, can you explain it using the tuning curves we drew above ?**"
   ]
  },
  {
   "cell_type": "code",
   "execution_count": null,
   "metadata": {},
   "outputs": [],
   "source": []
  },
  {
   "cell_type": "markdown",
   "metadata": {},
   "source": [
    "Let's look at components 1 and 3, and see if we can use PCA to define groups of neurons with interesting activity.  \n",
    "We will do that by looking at the coefficients $T_{pn}$, to find for example the neurons which have $T_{1n} > \\alpha_1$ and $T_{3n} > \\alpha_3$, with $\\alpha_1, \\alpha_3$ two thresholds."
   ]
  },
  {
   "cell_type": "code",
   "execution_count": null,
   "metadata": {},
   "outputs": [],
   "source": [
    "I,J = 1,3"
   ]
  },
  {
   "cell_type": "code",
   "execution_count": null,
   "metadata": {},
   "outputs": [],
   "source": [
    "wr = 0.5\n",
    "cmap_quad = ListedColormap([\"grey\",\"r\",\"b\", \"purple\"])\n",
    "cmap_kwargs = {\"vmin\":0, \"vmax\":3, \"cmap\":cmap_quad}\n",
    "figj = plt.figure(figsize=(12,5))\n",
    "gs = GridSpec(\n",
    "    nrows=1,ncols=2, figure=figj, \n",
    "    width_ratios=[wr, 1-wr]\n",
    ")\n",
    "subfigj1 = figj.add_subfigure(gs[0,0])\n",
    "ax_joint = subfigj1.add_subplot(111)\n",
    "jp = JointPlot(ax_joint, pca.components_[I], pca.components_[J], **cmap_kwargs)\n",
    "ax_joint.set_xlabel(f\"PC{I} Coefficients\")\n",
    "ax_joint.set_ylabel(f\"PC{J} Coefficients\")\n",
    "\n",
    "subfigj2 = figj.add_subfigure(gs[0,1])\n",
    "orthoj = OrthoAxes(subfigj2, coords, interactive=False)\n",
    "scat = orthoj.scatter(coords, s=1, alpha=0.1*np.ones(coords.shape[1]), c=np.zeros(coords.shape[1], dtype=np.int_), **cmap_kwargs)\n",
    "\n",
    "joint_widgets = widgets.VBox([\n",
    "    widgets.HBox([\n",
    "        widgets.Label(value=f'PC{I}   '),\n",
    "        widgets.RadioButtons(options=['top', 'bottom'], layout={'width': 'max-content'}), \n",
    "        widgets.FloatSlider(value=0,min=pca.components_[I].min(),max=pca.components_[I].max(),step=0.001,continuous_update=False,readout_format='.3f'),\n",
    "    ]),\n",
    "    widgets.HBox([\n",
    "        widgets.Label(value=f'PC{J}   '),\n",
    "        widgets.RadioButtons(options=['top', 'bottom'], layout={'width': 'max-content'}), \n",
    "        widgets.FloatSlider(value=0,min=pca.components_[I].min(),max=pca.components_[I].max(),step=0.001,continuous_update=False,readout_format='.3f'),\n",
    "    ]),\n",
    "])\n",
    "def update_joint(change):\n",
    "    mask = jp.change_thresh(\n",
    "        tx=joint_widgets.children[0].children[2].value, \n",
    "        ty=joint_widgets.children[1].children[2].value, \n",
    "        sidex=joint_widgets.children[0].children[1].value[0], \n",
    "        sidey=joint_widgets.children[1].children[1].value[0]\n",
    "    )\n",
    "    orthoj.change_color(scat, mask)\n",
    "    alpha = np.ones_like(mask, dtype=np.float_)*0.1\n",
    "    alpha[mask<1] = 0.01\n",
    "    alpha[mask>2] = 1\n",
    "    orthoj.change_alpha(scat, alpha)\n",
    "    figj.canvas.draw()\n",
    "recursive_observe(joint_widgets, update_joint)\n",
    "update_joint(None)\n",
    "joint_widgets"
   ]
  },
  {
   "cell_type": "markdown",
   "metadata": {},
   "source": [
    "You will see that the bigger $|\\alpha_1|$ and $|\\alpha_3|$, the fewer neurons we select. However, those neurons seem to be spatialy clustered in the brain.  \n",
    "\n",
    "We could do the same thing with any number of components. On the next (and last) interactive plot, you can select any combinaison of components, and select the % of neurons you want to keep for each component. Explore the different possibilities, have fun, and try to identify groups of neurons which are clustered in space and have interesting temporal activity."
   ]
  },
  {
   "cell_type": "code",
   "execution_count": null,
   "metadata": {},
   "outputs": [],
   "source": [
    "wr = 0.2\n",
    "figm = plt.figure(figsize=(15,5))\n",
    "gs = GridSpec(\n",
    "    nrows=1,ncols=2, figure=figm, \n",
    "    width_ratios=[wr, 1-wr]\n",
    ")\n",
    "subfigm1 = figm.add_subfigure(gs[0,0])\n",
    "ortho = OrthoAxes(subfigm1, coords, interactive=False)\n",
    "scat = ortho.scatter(coords, s=1, alpha=0.1*np.ones(coords.shape[1]), c=np.zeros(coords.shape[1], dtype=np.int_), cmap=\"flag_r\", vmin=0, vmax=1)\n",
    "\n",
    "subfigm2 = figm.add_subfigure(gs[0,1])\n",
    "axm2 = subfigm2.add_subplot(111)\n",
    "zeerooss = np.zeros(dffs.shape[1])\n",
    "linem, = axm2.plot(brain_time, zeerooss, color=\"red\", label=\"mean\")\n",
    "fillm = axm2.fill_between(brain_time, zeerooss, zeerooss, color=\"red\", alpha=0.5, label=\"std\")\n",
    "axm2.legend()\n",
    "axm2.set_xlabel(\"Time (s)\")\n",
    "axm2.set_ylabel(\"Average Neuron ΔF/F\")\n",
    "\n",
    "PC_widgets = widgets_for_pca(5)\n",
    "def update(change):\n",
    "    mask = mask_from_widgets(pca, PC_widgets)\n",
    "    ortho.change_color(scat, mask)\n",
    "    ortho.change_alpha(scat, np.where(mask, 0.7, 0.1))\n",
    "    if (~mask).all():\n",
    "        linem.set_ydata(zeerooss)\n",
    "        fillm.set_paths([fillm.get_paths()[0].vertices*0])\n",
    "    else:\n",
    "        subdff = dffs[mask]\n",
    "        mean = subdff.mean(axis=0)\n",
    "        std = subdff.std(axis=0)\n",
    "        linem.set_ydata(mean)\n",
    "        dummy = ax.fill_between(brain_time, mean-std,mean+std, alpha=0)\n",
    "        dp = dummy.get_paths()[0]\n",
    "        dummy.remove()\n",
    "        fillm.set_paths([dp.vertices])\n",
    "        axm2.set_ylim((mean-std).min(), (mean+std).max())\n",
    "    figm.canvas.draw()\n",
    "recursive_observe(PC_widgets, update)\n",
    "update(None)\n",
    "PC_widgets"
   ]
  },
  {
   "cell_type": "code",
   "execution_count": null,
   "metadata": {},
   "outputs": [],
   "source": []
  }
 ],
 "metadata": {
  "colab": {
   "authorship_tag": "ABX9TyO0zzC/uIsACzwdOlQ+iDNH",
   "include_colab_link": true,
   "provenance": [],
   "toc_visible": true
  },
  "kernelspec": {
   "display_name": "Python 3 (ipykernel)",
   "language": "python",
   "name": "python3"
  },
  "language_info": {
   "codemirror_mode": {
    "name": "ipython",
    "version": 3
   },
   "file_extension": ".py",
   "mimetype": "text/x-python",
   "name": "python",
   "nbconvert_exporter": "python",
   "pygments_lexer": "ipython3",
   "version": "3.10.12"
  },
  "widgets": {
   "application/vnd.jupyter.widget-state+json": {
    "37eeda081cba4791b563929919b5b1f1": {
     "model_module": "@jupyter-widgets/base",
     "model_module_version": "1.2.0",
     "model_name": "LayoutModel",
     "state": {
      "_model_module": "@jupyter-widgets/base",
      "_model_module_version": "1.2.0",
      "_model_name": "LayoutModel",
      "_view_count": null,
      "_view_module": "@jupyter-widgets/base",
      "_view_module_version": "1.2.0",
      "_view_name": "LayoutView",
      "align_content": null,
      "align_items": null,
      "align_self": null,
      "border": null,
      "bottom": null,
      "display": null,
      "flex": null,
      "flex_flow": null,
      "grid_area": null,
      "grid_auto_columns": null,
      "grid_auto_flow": null,
      "grid_auto_rows": null,
      "grid_column": null,
      "grid_gap": null,
      "grid_row": null,
      "grid_template_areas": null,
      "grid_template_columns": null,
      "grid_template_rows": null,
      "height": null,
      "justify_content": null,
      "justify_items": null,
      "left": null,
      "margin": null,
      "max_height": null,
      "max_width": null,
      "min_height": null,
      "min_width": null,
      "object_fit": null,
      "object_position": null,
      "order": null,
      "overflow": null,
      "overflow_x": null,
      "overflow_y": null,
      "padding": null,
      "right": null,
      "top": null,
      "visibility": null,
      "width": null
     }
    },
    "79b1a120d1814168b74a1efb1e82a788": {
     "model_module": "jupyter-matplotlib",
     "model_module_version": "^0.11",
     "model_name": "ToolbarModel",
     "state": {
      "_current_action": "",
      "_dom_classes": [],
      "_model_module": "jupyter-matplotlib",
      "_model_module_version": "^0.11",
      "_model_name": "ToolbarModel",
      "_view_count": null,
      "_view_module": "jupyter-matplotlib",
      "_view_module_version": "^0.11",
      "_view_name": "ToolbarView",
      "button_style": "",
      "collapsed": true,
      "layout": "IPY_MODEL_37eeda081cba4791b563929919b5b1f1",
      "orientation": "vertical",
      "toolitems": [
       [
        "Home",
        "Reset original view",
        "home",
        "home"
       ],
       [
        "Back",
        "Back to previous view",
        "arrow-left",
        "back"
       ],
       [
        "Forward",
        "Forward to next view",
        "arrow-right",
        "forward"
       ],
       [
        "Pan",
        "Left button pans, Right button zooms\nx/y fixes axis, CTRL fixes aspect",
        "arrows",
        "pan"
       ],
       [
        "Zoom",
        "Zoom to rectangle\nx/y fixes axis",
        "square-o",
        "zoom"
       ],
       [
        "Download",
        "Download plot",
        "floppy-o",
        "save_figure"
       ]
      ]
     }
    },
    "7fef52befe9f44e89ab1734c137771fa": {
     "model_module": "@jupyter-widgets/base",
     "model_module_version": "1.2.0",
     "model_name": "LayoutModel",
     "state": {
      "_model_module": "@jupyter-widgets/base",
      "_model_module_version": "1.2.0",
      "_model_name": "LayoutModel",
      "_view_count": null,
      "_view_module": "@jupyter-widgets/base",
      "_view_module_version": "1.2.0",
      "_view_name": "LayoutView",
      "align_content": null,
      "align_items": null,
      "align_self": null,
      "border": null,
      "bottom": null,
      "display": null,
      "flex": null,
      "flex_flow": null,
      "grid_area": null,
      "grid_auto_columns": null,
      "grid_auto_flow": null,
      "grid_auto_rows": null,
      "grid_column": null,
      "grid_gap": null,
      "grid_row": null,
      "grid_template_areas": null,
      "grid_template_columns": null,
      "grid_template_rows": null,
      "height": null,
      "justify_content": null,
      "justify_items": null,
      "left": null,
      "margin": null,
      "max_height": null,
      "max_width": null,
      "min_height": null,
      "min_width": null,
      "object_fit": null,
      "object_position": null,
      "order": null,
      "overflow": null,
      "overflow_x": null,
      "overflow_y": null,
      "padding": null,
      "right": null,
      "top": null,
      "visibility": null,
      "width": null
     }
    },
    "8d75bfb1ba7e4128b75453c0f76d9ec1": {
     "model_module": "@jupyter-widgets/base",
     "model_module_version": "1.2.0",
     "model_name": "LayoutModel",
     "state": {
      "_model_module": "@jupyter-widgets/base",
      "_model_module_version": "1.2.0",
      "_model_name": "LayoutModel",
      "_view_count": null,
      "_view_module": "@jupyter-widgets/base",
      "_view_module_version": "1.2.0",
      "_view_name": "LayoutView",
      "align_content": null,
      "align_items": null,
      "align_self": null,
      "border": null,
      "bottom": null,
      "display": null,
      "flex": null,
      "flex_flow": null,
      "grid_area": null,
      "grid_auto_columns": null,
      "grid_auto_flow": null,
      "grid_auto_rows": null,
      "grid_column": null,
      "grid_gap": null,
      "grid_row": null,
      "grid_template_areas": null,
      "grid_template_columns": null,
      "grid_template_rows": null,
      "height": null,
      "justify_content": null,
      "justify_items": null,
      "left": null,
      "margin": null,
      "max_height": null,
      "max_width": null,
      "min_height": null,
      "min_width": null,
      "object_fit": null,
      "object_position": null,
      "order": null,
      "overflow": null,
      "overflow_x": null,
      "overflow_y": null,
      "padding": null,
      "right": null,
      "top": null,
      "visibility": null,
      "width": null
     }
    },
    "9f63ce3c17e84a7e956c0eba00e1a7eb": {
     "model_module": "jupyter-matplotlib",
     "model_module_version": "^0.11",
     "model_name": "MPLCanvasModel",
     "state": {
      "_cursor": "default",
      "_data_url": "data:image/png;base64,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",
      "_dom_classes": [],
      "_figure_label": "Figure 1",
      "_image_mode": "diff",
      "_message": "",
      "_model_module": "jupyter-matplotlib",
      "_model_module_version": "^0.11",
      "_model_name": "MPLCanvasModel",
      "_rubberband_height": 0,
      "_rubberband_width": 0,
      "_rubberband_x": 0,
      "_rubberband_y": 481,
      "_size": [
       640,
       480
      ],
      "_view_count": null,
      "_view_module": "jupyter-matplotlib",
      "_view_module_version": "^0.11",
      "_view_name": "MPLCanvasView",
      "capture_scroll": false,
      "footer_visible": true,
      "header_visible": true,
      "layout": "IPY_MODEL_8d75bfb1ba7e4128b75453c0f76d9ec1",
      "pan_zoom_throttle": 33,
      "resizable": true,
      "toolbar": "IPY_MODEL_f80ee73bd9604a13aa1670b893a0b896",
      "toolbar_position": "left",
      "toolbar_visible": "fade-in-fade-out"
     }
    },
    "da0876dcedd948bd99d1b0440b25c452": {
     "model_module": "jupyter-matplotlib",
     "model_module_version": "^0.11",
     "model_name": "MPLCanvasModel",
     "state": {
      "_cursor": "default",
      "_data_url": "data:image/png;base64,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",
      "_dom_classes": [],
      "_figure_label": "Figure 4",
      "_image_mode": "diff",
      "_message": "",
      "_model_module": "jupyter-matplotlib",
      "_model_module_version": "^0.11",
      "_model_name": "MPLCanvasModel",
      "_rubberband_height": 0,
      "_rubberband_width": 0,
      "_rubberband_x": 0,
      "_rubberband_y": 0,
      "_size": [
       640,
       480
      ],
      "_view_count": null,
      "_view_module": "jupyter-matplotlib",
      "_view_module_version": "^0.11",
      "_view_name": "MPLCanvasView",
      "capture_scroll": false,
      "footer_visible": true,
      "header_visible": true,
      "layout": "IPY_MODEL_7fef52befe9f44e89ab1734c137771fa",
      "pan_zoom_throttle": 33,
      "resizable": true,
      "toolbar": "IPY_MODEL_79b1a120d1814168b74a1efb1e82a788",
      "toolbar_position": "left",
      "toolbar_visible": "fade-in-fade-out"
     }
    },
    "e656b70e87f0431ea3410a0a1e890f7b": {
     "model_module": "@jupyter-widgets/base",
     "model_module_version": "1.2.0",
     "model_name": "LayoutModel",
     "state": {
      "_model_module": "@jupyter-widgets/base",
      "_model_module_version": "1.2.0",
      "_model_name": "LayoutModel",
      "_view_count": null,
      "_view_module": "@jupyter-widgets/base",
      "_view_module_version": "1.2.0",
      "_view_name": "LayoutView",
      "align_content": null,
      "align_items": null,
      "align_self": null,
      "border": null,
      "bottom": null,
      "display": null,
      "flex": null,
      "flex_flow": null,
      "grid_area": null,
      "grid_auto_columns": null,
      "grid_auto_flow": null,
      "grid_auto_rows": null,
      "grid_column": null,
      "grid_gap": null,
      "grid_row": null,
      "grid_template_areas": null,
      "grid_template_columns": null,
      "grid_template_rows": null,
      "height": null,
      "justify_content": null,
      "justify_items": null,
      "left": null,
      "margin": null,
      "max_height": null,
      "max_width": null,
      "min_height": null,
      "min_width": null,
      "object_fit": null,
      "object_position": null,
      "order": null,
      "overflow": null,
      "overflow_x": null,
      "overflow_y": null,
      "padding": null,
      "right": null,
      "top": null,
      "visibility": null,
      "width": null
     }
    },
    "f80ee73bd9604a13aa1670b893a0b896": {
     "model_module": "jupyter-matplotlib",
     "model_module_version": "^0.11",
     "model_name": "ToolbarModel",
     "state": {
      "_current_action": "zoom",
      "_dom_classes": [],
      "_model_module": "jupyter-matplotlib",
      "_model_module_version": "^0.11",
      "_model_name": "ToolbarModel",
      "_view_count": null,
      "_view_module": "jupyter-matplotlib",
      "_view_module_version": "^0.11",
      "_view_name": "ToolbarView",
      "button_style": "",
      "collapsed": true,
      "layout": "IPY_MODEL_e656b70e87f0431ea3410a0a1e890f7b",
      "orientation": "vertical",
      "toolitems": [
       [
        "Home",
        "Reset original view",
        "home",
        "home"
       ],
       [
        "Back",
        "Back to previous view",
        "arrow-left",
        "back"
       ],
       [
        "Forward",
        "Forward to next view",
        "arrow-right",
        "forward"
       ],
       [
        "Pan",
        "Left button pans, Right button zooms\nx/y fixes axis, CTRL fixes aspect",
        "arrows",
        "pan"
       ],
       [
        "Zoom",
        "Zoom to rectangle\nx/y fixes axis",
        "square-o",
        "zoom"
       ],
       [
        "Download",
        "Download plot",
        "floppy-o",
        "save_figure"
       ]
      ]
     }
    }
   }
  }
 },
 "nbformat": 4,
 "nbformat_minor": 4
}
