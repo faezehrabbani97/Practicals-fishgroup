{
 "cells": [
  {
   "cell_type": "markdown",
   "metadata": {
    "tags": []
   },
   "source": [
    "## Introduction:"
   ]
  },
  {
   "cell_type": "markdown",
   "metadata": {},
   "source": [
    "This is the first of a series of notebooks whose goal is to interactively show you some techniques to visualize and analyze behavioral and neural data.\n",
    "\n",
    "We assume some familiarity with Python, but we try to have a progressive complexity so that you can learn as you go.  If you're already familiar with certain things then you can move faster to more complicated parts."
   ]
  },
  {
   "cell_type": "markdown",
   "metadata": {},
   "source": [
    "Jupyter notebooks are composed of cells that can contain text (such as the one you're reading) or code that can be modified and executed interactively.  In order to run a cell you can press `Ctrl + Enter` or `Shift + Enter` if you also want to move to the successive cell. "
   ]
  },
  {
   "cell_type": "markdown",
   "metadata": {},
   "source": [
    "Some parts of the notebook are left empty and you'll have to code them for yourself, they will be highlighted with a keyboard symbol ⌨️.  In case you're really stuck, know that the full notebook is also available in the same Github repository.  But please try your best before looking at the corrections, the goal is not to reproduce the correction but to learn how to analyze data by yourself, there isn't just one right way to do it!"
   ]
  },
  {
   "cell_type": "markdown",
   "metadata": {},
   "source": [
    "In this notebook we'll learn how to work with data and how to visualize it, we'll familiarize with the datasets that will be used in the following days for more advanced analysis."
   ]
  },
  {
   "cell_type": "markdown",
   "metadata": {},
   "source": [
    "## Importing the data:"
   ]
  },
  {
   "cell_type": "markdown",
   "metadata": {},
   "source": [
    "We're running our notebook on Colab, which means that our code is running on Google's cloud servers.  Because of this we need to download the data we want to work on in our workspace."
   ]
  },
  {
   "cell_type": "markdown",
   "metadata": {},
   "source": [
    "With the following cell we can download some files containing helpful functions from Github:"
   ]
  },
  {
   "cell_type": "code",
   "execution_count": null,
   "metadata": {},
   "outputs": [],
   "source": [
    "!mkdir /content/Helper_Functions/\n",
    "!wget -P /content/Helper_Functions/ https://raw.githubusercontent.com/EmeEmu/IBIO-Banyuls2023-Python/main/Helper_Functions/accessing_data.py\n",
    "!wget -P /content/Helper_Functions/ https://raw.githubusercontent.com/EmeEmu/IBIO-Banyuls2023-Python/main/Helper_Functions/hmm_plotters.py\n",
    "!wget -P /content/Helper_Functions/ https://raw.githubusercontent.com/EmeEmu/IBIO-Banyuls2023-Python/main/Helper_Functions/OrthoViewer.py\n",
    "!wget -P /content/Helper_Functions/ https://raw.githubusercontent.com/EmeEmu/IBIO-Banyuls2023-Python/main/Helper_Functions/plotting_functions.py"
   ]
  },
  {
   "cell_type": "markdown",
   "metadata": {},
   "source": [
    "While the following cell downloads the datasets from Drive:"
   ]
  },
  {
   "cell_type": "code",
   "execution_count": null,
   "metadata": {},
   "outputs": [],
   "source": [
    "!gdown --folder 1k21VhLoonOnoxxXyswrmE45VIB4FF00n"
   ]
  },
  {
   "cell_type": "markdown",
   "metadata": {},
   "source": [
    "We have just downloaded the file `fish1_different_speeds.hdf5` to the folder `\\content`.  HDF5 is a format for storing hierarchically data and corrsponding metadata. In order to access it we can use the library `h5py`.  Try to import it and open the file.  If you need some information about the library you can have a look at https://docs.h5py.org/en/stable/quick.html#core-concepts"
   ]
  },
  {
   "cell_type": "code",
   "execution_count": null,
   "metadata": {},
   "outputs": [],
   "source": [
    "#⌨️⬇️\n"
   ]
  },
  {
   "cell_type": "markdown",
   "metadata": {},
   "source": [
    "Now that we opened the file we can visualize what's inside thanks to the function `h5tree_view`:"
   ]
  },
  {
   "cell_type": "code",
   "execution_count": null,
   "metadata": {},
   "outputs": [],
   "source": [
    "from Helper_Functions.accessing_data import h5tree_view"
   ]
  },
  {
   "cell_type": "markdown",
   "metadata": {},
   "source": [
    "You can run `h5tree_view?` to get the documentation for this function and understand what it does and what are its inputs:"
   ]
  },
  {
   "cell_type": "code",
   "execution_count": null,
   "metadata": {},
   "outputs": [],
   "source": [
    "#⌨️⬇️\n"
   ]
  },
  {
   "cell_type": "code",
   "execution_count": null,
   "metadata": {},
   "outputs": [],
   "source": [
    "#⌨️⬇️\n"
   ]
  },
  {
   "cell_type": "markdown",
   "metadata": {},
   "source": [
    "As you can see this file contains various arrays (collection of values), organized in different groups."
   ]
  },
  {
   "cell_type": "markdown",
   "metadata": {},
   "source": [
    "## Whole-brain imaging:"
   ]
  },
  {
   "cell_type": "markdown",
   "metadata": {},
   "source": [
    "Now it's probably a good time to explain the experiment from which this data was recorded."
   ]
  },
  {
   "cell_type": "markdown",
   "metadata": {},
   "source": [
    "We measured the activity of most neurons in a the brain of a fish larva using a tecnhique called light-sheet microscopy\n",
    "The fish was genetically modified so that its neurons expessed a calcium sensor, a molecule whose fluorescence is enhanced when it binds calcium ions.\n",
    "Then we can measure the fluorescence of each neuron as an indicator of its activity: it's a measure of its concentration of calcium ions, which in turn is correlated with its firing rate."
   ]
  },
  {
   "cell_type": "markdown",
   "metadata": {},
   "source": [
    "In order to use this technique the fish is immobilized with an agarose gel, but in this particular case the tail is free and we recorded its movements as well.  Moreover, a screen was placed below the fish to display some visual stimuli.  This is a schematic of the experimental setup:\n",
    "\n",
    "![setup](https://raw.githubusercontent.com/EmeEmu/IBIO-Banyuls2023-Python/main/img/experimental_setup_danionella.png)"
   ]
  },
  {
   "cell_type": "markdown",
   "metadata": {},
   "source": [
    "From the experiment we get images of sections of the brain at different heights. After preprocessing them we can extract the positions of the neurons and their fluorescence as a function of time.  The fluorescence signals are then rescaled so that they can be compared across different neurons (even though they might have different experrion levels of the calcium sensor).  Some people try to extract a baseline fluorescence, here we just substracted the average fluorescence and rescaled by it to get the relative change in fluorescence:\n",
    "\n",
    "$$\\Delta F/F = \\frac{F(t) - \\bar{F}}{\\bar{F}}$$"
   ]
  },
  {
   "cell_type": "markdown",
   "metadata": {},
   "source": [
    "Now let's access the array containing the rescaled fluorescence traces for all neurons and save it to a local variable named `dff`:"
   ]
  },
  {
   "cell_type": "code",
   "execution_count": null,
   "metadata": {},
   "outputs": [],
   "source": [
    "#⌨️⬇️\n",
    "dff="
   ]
  },
  {
   "cell_type": "markdown",
   "metadata": {},
   "source": [
    "You can see the shape of the array as `dff.shape`:"
   ]
  },
  {
   "cell_type": "code",
   "execution_count": null,
   "metadata": {},
   "outputs": [],
   "source": [
    "#⌨️⬇️\n"
   ]
  },
  {
   "cell_type": "markdown",
   "metadata": {},
   "source": [
    "It is a two dimensional array containing the $\\Delta F/F$ values for 30971 neurons at 481 different timepoints.\n",
    "You can access the value of neuron i at timepoint j with `dff[i,j]` (remember that in Python indices start from 0):"
   ]
  },
  {
   "cell_type": "code",
   "execution_count": null,
   "metadata": {},
   "outputs": [],
   "source": [
    "#⌨️⬇️\n",
    "dff[27,0]"
   ]
  },
  {
   "cell_type": "markdown",
   "metadata": {},
   "source": [
    "Now that's not very informative...  What would be nicer would be to plot the fluorescence values of a neuron over time."
   ]
  },
  {
   "cell_type": "markdown",
   "metadata": {},
   "source": [
    "## Plotting:"
   ]
  },
  {
   "cell_type": "markdown",
   "metadata": {
    "tags": []
   },
   "source": [
    "### Fluorescence traces:"
   ]
  },
  {
   "cell_type": "markdown",
   "metadata": {},
   "source": [
    "We can do that using a library called matplotlib:"
   ]
  },
  {
   "cell_type": "code",
   "execution_count": null,
   "metadata": {},
   "outputs": [],
   "source": [
    "import matplotlib.pyplot as plt"
   ]
  },
  {
   "cell_type": "markdown",
   "metadata": {},
   "source": [
    "We also need the times at which the fluorescence was measured:"
   ]
  },
  {
   "cell_type": "code",
   "execution_count": null,
   "metadata": {},
   "outputs": [],
   "source": [
    "#⌨️⬇️\n"
   ]
  },
  {
   "cell_type": "markdown",
   "metadata": {},
   "source": [
    "Now we have everything to do our plot, if you need some help have a look at https://matplotlib.org/stable/tutorials/introductory/pyplot.html#introduction-to-pyplot:"
   ]
  },
  {
   "cell_type": "code",
   "execution_count": null,
   "metadata": {},
   "outputs": [],
   "source": [
    "#⌨️⬇️\n"
   ]
  },
  {
   "cell_type": "markdown",
   "metadata": {},
   "source": [
    "In order to access all fluorescence values for neuron $i$ we can write `dff[i]`, whereas to access the fluorescence value of all neurons at timepoint $j$ we have to write `dff[:,j]`"
   ]
  },
  {
   "cell_type": "markdown",
   "metadata": {},
   "source": [
    "You can also make the plot nicer by setting the range and adding labels:"
   ]
  },
  {
   "cell_type": "code",
   "execution_count": null,
   "metadata": {},
   "outputs": [],
   "source": [
    "#⌨️⬇️\n"
   ]
  },
  {
   "cell_type": "markdown",
   "metadata": {},
   "source": [
    "Note that we can use negative indices to access the elements counting from the end. `brain_times[-1]` is the last timepoint in the array."
   ]
  },
  {
   "cell_type": "markdown",
   "metadata": {},
   "source": [
    "You can run the following cell to install ipympl and make the plots interactive with the command `%matplotlib widget`:"
   ]
  },
  {
   "cell_type": "code",
   "execution_count": null,
   "metadata": {},
   "outputs": [],
   "source": [
    "!pip install ipympl\n",
    "from google.colab import output\n",
    "output.enable_custom_widget_manager()"
   ]
  },
  {
   "cell_type": "code",
   "execution_count": null,
   "metadata": {},
   "outputs": [],
   "source": [
    "%matplotlib widget"
   ]
  },
  {
   "cell_type": "markdown",
   "metadata": {},
   "source": [
    "Try plotting the fluorescence trace once again, now you can zoom in and move around by selecting the buttons on the top left:"
   ]
  },
  {
   "cell_type": "code",
   "execution_count": null,
   "metadata": {},
   "outputs": [],
   "source": [
    "#⌨️⬇️\n"
   ]
  },
  {
   "cell_type": "markdown",
   "metadata": {},
   "source": [
    "To go back to the noninteractive mode you can run `%matplotlib inline`:"
   ]
  },
  {
   "cell_type": "code",
   "execution_count": null,
   "metadata": {},
   "outputs": [],
   "source": [
    "%matplotlib inline"
   ]
  },
  {
   "cell_type": "markdown",
   "metadata": {},
   "source": [
    "Now try plotting the activity of the first 50 neurons by using a `for` loop:"
   ]
  },
  {
   "cell_type": "code",
   "execution_count": null,
   "metadata": {},
   "outputs": [],
   "source": [
    "#⌨️⬇️\n"
   ]
  },
  {
   "cell_type": "markdown",
   "metadata": {},
   "source": [
    "Things get crowded pretty quickly!"
   ]
  },
  {
   "cell_type": "markdown",
   "metadata": {},
   "source": [
    "We can have a look at some summary statistics of the neural activity, for example the average activity across all neurons and its dispersion for each timepoints.  To do so it will be useful to use the library numpy, which allows for fast array operation."
   ]
  },
  {
   "cell_type": "code",
   "execution_count": null,
   "metadata": {},
   "outputs": [],
   "source": [
    "import numpy as np #let's make it shorter as we're going to use it quite often"
   ]
  },
  {
   "cell_type": "markdown",
   "metadata": {},
   "source": [
    "You should have a look at the functions `np.mean` and `np.std`:"
   ]
  },
  {
   "cell_type": "code",
   "execution_count": null,
   "metadata": {},
   "outputs": [],
   "source": [
    "#⌨️⬇️\n"
   ]
  },
  {
   "cell_type": "markdown",
   "metadata": {},
   "source": [
    "Now you can use the function `plt.fill_between` to color the region closer than one standard deviation to the mean:"
   ]
  },
  {
   "cell_type": "code",
   "execution_count": null,
   "metadata": {},
   "outputs": [],
   "source": [
    "#⌨️⬇️\n"
   ]
  },
  {
   "cell_type": "markdown",
   "metadata": {
    "tags": []
   },
   "source": [
    "### Neuron positions:"
   ]
  },
  {
   "cell_type": "markdown",
   "metadata": {},
   "source": [
    "In our dataset we also have the positions of the neurons, let's import them and have a look at their shape:"
   ]
  },
  {
   "cell_type": "code",
   "execution_count": null,
   "metadata": {},
   "outputs": [],
   "source": [
    "#⌨️⬇️\n"
   ]
  },
  {
   "cell_type": "markdown",
   "metadata": {},
   "source": [
    "For each neuron we have the three cartesian coordinates $(x,y,z)$ in micrometers.  Try to print the coordinates of a neuron at random, in order to select a random index you can use the function `np.random.randint`:"
   ]
  },
  {
   "cell_type": "code",
   "execution_count": null,
   "metadata": {},
   "outputs": [],
   "source": [
    "#⌨️⬇️\n"
   ]
  },
  {
   "cell_type": "markdown",
   "metadata": {},
   "source": [
    "Now let's plot all neurons positions, they're point in 3D but we can project them on a plane in order to display them in 2D.  For example plotting the $(x,y)$ coordinates is equivalent to projecting the points on the $z=0$ plane.  Try it using the function `plt.scatter`:"
   ]
  },
  {
   "cell_type": "code",
   "execution_count": null,
   "metadata": {},
   "outputs": [],
   "source": [
    "#⌨️⬇️\n"
   ]
  },
  {
   "cell_type": "markdown",
   "metadata": {},
   "source": [
    "It doesn't look great... We have to set the scale of the $x$ and $y$ axis to be equal, and we can also tune some parameters to change the size and transparency of the points:"
   ]
  },
  {
   "cell_type": "code",
   "execution_count": null,
   "metadata": {},
   "outputs": [],
   "source": [
    "#⌨️⬇️\n"
   ]
  },
  {
   "cell_type": "markdown",
   "metadata": {},
   "source": [
    "It's way better, this is what the brain looks as like seen from above.  The fish head is oriented in the positive $y$ direction, its eyes would approximately be on the two sides of the brain at $y\\simeq 800$ μm and its spinal cord would start around $y\\simeq 0$ μm and extend in the negative $y$ direction, but we didn't record it in this experiment."
   ]
  },
  {
   "cell_type": "markdown",
   "metadata": {},
   "source": [
    "Let's permanently increase the resolution of the figures by changing the default parameter:"
   ]
  },
  {
   "cell_type": "code",
   "execution_count": null,
   "metadata": {},
   "outputs": [],
   "source": [
    "plt.rcParams['figure.dpi']=150"
   ]
  },
  {
   "cell_type": "markdown",
   "metadata": {},
   "source": [
    "Now let's try to plot the neuron positions in the $yz$- and in the $xz$-planes as well.  You can plot all three projections in one figure by creating multiple subplots with`plt.subplots`:"
   ]
  },
  {
   "cell_type": "code",
   "execution_count": null,
   "metadata": {},
   "outputs": [],
   "source": [
    "#⌨️⬇️\n"
   ]
  },
  {
   "cell_type": "markdown",
   "metadata": {},
   "source": [
    "Not bad, but we can make it simpler by using a custom class called `OrthoAxes`:"
   ]
  },
  {
   "cell_type": "code",
   "execution_count": null,
   "metadata": {},
   "outputs": [],
   "source": [
    "from Helper_Functions.OrthoViewer import OrthoAxes"
   ]
  },
  {
   "cell_type": "code",
   "execution_count": null,
   "metadata": {},
   "outputs": [],
   "source": [
    "fig=plt.figure()\n",
    "ortho=OrthoAxes(fig,coords,interactive=False)\n",
    "ortho.scatter(coords,s=2,c='k',alpha=0.1)\n",
    "plt.show()"
   ]
  },
  {
   "cell_type": "markdown",
   "metadata": {},
   "source": [
    "By activating interactive plots we can even select points with our cursor and if we're close enough to the position of a neuron we get its index:"
   ]
  },
  {
   "cell_type": "code",
   "execution_count": null,
   "metadata": {},
   "outputs": [],
   "source": [
    "#⌨️⬇️\n"
   ]
  },
  {
   "cell_type": "markdown",
   "metadata": {},
   "source": [
    "Another useful way to visualize points is to use 3D plotting, you can use `fig.add_subplot(projection='3d')` to create a 3D plot.  Then you can click and drag with your cursor to rotate the view:"
   ]
  },
  {
   "cell_type": "code",
   "execution_count": null,
   "metadata": {},
   "outputs": [],
   "source": [
    "#⌨️⬇️\n"
   ]
  },
  {
   "cell_type": "code",
   "execution_count": null,
   "metadata": {},
   "outputs": [],
   "source": [
    "%matplotlib inline"
   ]
  },
  {
   "cell_type": "markdown",
   "metadata": {},
   "source": [
    "### Strength of neural activity variations:"
   ]
  },
  {
   "cell_type": "markdown",
   "metadata": {},
   "source": [
    "Now let's look at the standard deviation of the activity of each neuron over time, a measure of how strongly the activity varies along the experiment:"
   ]
  },
  {
   "cell_type": "code",
   "execution_count": null,
   "metadata": {},
   "outputs": [],
   "source": [
    "#⌨️⬇️\n"
   ]
  },
  {
   "cell_type": "markdown",
   "metadata": {},
   "source": [
    "Find the neuron with the the largest standard deviation (you can use `np.argmax`) and plot its activity over time and its position in the brain:"
   ]
  },
  {
   "cell_type": "code",
   "execution_count": null,
   "metadata": {},
   "outputs": [],
   "source": [
    "#⌨️⬇️\n"
   ]
  },
  {
   "cell_type": "markdown",
   "metadata": {},
   "source": [
    "Well done, now let's have a look at the distribution of standard deviations across all neurons using `plt.hist`:"
   ]
  },
  {
   "cell_type": "code",
   "execution_count": null,
   "metadata": {},
   "outputs": [],
   "source": [
    "#⌨️⬇️\n"
   ]
  },
  {
   "cell_type": "markdown",
   "metadata": {},
   "source": [
    "We can plot the neuron position with different opacities according to their standard deviation by passing an array to the parameter `alpha`:"
   ]
  },
  {
   "cell_type": "code",
   "execution_count": null,
   "metadata": {},
   "outputs": [],
   "source": [
    "#⌨️⬇️\n"
   ]
  },
  {
   "cell_type": "markdown",
   "metadata": {},
   "source": [
    "Things are not very clear because a lot of points have an intermediate transparency value.  We can rescale the array of standard deviation linearly so that the average standard deviation maps to zero and the maximum one to one.  Then we have to crop this array to positive values as `alpha` values need to be in the range $[0,1]$:"
   ]
  },
  {
   "cell_type": "code",
   "execution_count": null,
   "metadata": {},
   "outputs": [],
   "source": [
    "#⌨️⬇️\n"
   ]
  },
  {
   "cell_type": "markdown",
   "metadata": {},
   "source": [
    "It's easier to distinguish regions where neurons have large activity variations."
   ]
  },
  {
   "cell_type": "markdown",
   "metadata": {},
   "source": [
    "Now, let's plot the fluorescence traces for the 10 neurons with the largest standard deviation. We can make use of array slicing: to select the elements $i$ to $j-1$ of `array` you can write `array[i:j]`.  Moreover, you can use the function `np.argsort` to get the neuron indices sorted by increasing standard deviation:"
   ]
  },
  {
   "cell_type": "code",
   "execution_count": null,
   "metadata": {},
   "outputs": [],
   "source": [
    "#⌨️⬇️\n"
   ]
  },
  {
   "cell_type": "code",
   "execution_count": null,
   "metadata": {},
   "outputs": [],
   "source": [
    "#⌨️⬇️\n"
   ]
  },
  {
   "cell_type": "markdown",
   "metadata": {},
   "source": [
    "It's still hard to distinguish different traces, we can fix this in a couple of ways.\n",
    "One is to simply add an offset for each neuron to separate them:"
   ]
  },
  {
   "cell_type": "code",
   "execution_count": null,
   "metadata": {},
   "outputs": [],
   "source": [
    "#⌨️⬇️\n"
   ]
  },
  {
   "cell_type": "markdown",
   "metadata": {},
   "source": [
    "This will work if the number of traces is relatively small.  \n",
    "\n",
    "Another way is to use a raster plot: we can visualized an image where each pixel encodes the activity of a certain neuron at a certain timepoint, different rows correspond to different neurons whereas different columns correspond to different timepoints.  Try to do this by using the function `plt.imshow` which displays a 2D array as an image.  You'll probably have to change the `aspect` and `interpolation` parameters."
   ]
  },
  {
   "cell_type": "code",
   "execution_count": null,
   "metadata": {},
   "outputs": [],
   "source": [
    "#⌨️⬇️\n"
   ]
  },
  {
   "cell_type": "markdown",
   "metadata": {},
   "source": [
    "Now try to add a colorbar to understand the values corresponding to the pixel colors with `plt.colorbar` and optionally change the range of the axis so that the timescale is in seconds rather than timepoints:"
   ]
  },
  {
   "cell_type": "code",
   "execution_count": null,
   "metadata": {},
   "outputs": [],
   "source": [
    "#⌨️⬇️\n"
   ]
  },
  {
   "cell_type": "markdown",
   "metadata": {},
   "source": [
    "Another way to visualize multiple traces is to do it interactively with a slider.  Here you have one possible implementation: we define a function which takes a number as input and plots a corresponding trace and we add a decorator to interact with it by using a slider to select its input."
   ]
  },
  {
   "cell_type": "code",
   "execution_count": null,
   "metadata": {},
   "outputs": [],
   "source": [
    "from ipywidgets import interact"
   ]
  },
  {
   "cell_type": "code",
   "execution_count": null,
   "metadata": {},
   "outputs": [],
   "source": [
    "@interact(neuron=(0,len(selected_indices)-1))\n",
    "def plot_dff_trace(neuron=0):\n",
    "    plt.close()\n",
    "    fig,ax=plt.subplots()\n",
    "    ax.plot(brain_times,dff[selected_indices[neuron]],'k')\n",
    "    ax.set_xlim(brain_times[0],brain_times[-1])\n",
    "    ax.set_xlabel('time (s)')\n",
    "    ax.set_ylabel('$\\Delta F/F$')\n",
    "    plt.show()"
   ]
  },
  {
   "cell_type": "markdown",
   "metadata": {},
   "source": [
    "### Stimulus:"
   ]
  },
  {
   "cell_type": "markdown",
   "metadata": {},
   "source": [
    "Now let's import the stimulus speed and plot it over time:"
   ]
  },
  {
   "cell_type": "code",
   "execution_count": null,
   "metadata": {},
   "outputs": [],
   "source": [
    "#⌨️⬇️\n"
   ]
  },
  {
   "cell_type": "markdown",
   "metadata": {},
   "source": [
    "The experiment is composed by 8 trials where the visual stimulus moving forward with different speeds.  This visual motion induces swimming in the fish, this behavior is known as optomotor response.\n",
    "\n",
    "Do you notice any similarity between the stimulus structure and the activity of certain neurons?\n",
    "\n",
    "Try plotting them together in the same figure:"
   ]
  },
  {
   "cell_type": "code",
   "execution_count": null,
   "metadata": {},
   "outputs": [],
   "source": [
    "#⌨️⬇️\n"
   ]
  },
  {
   "cell_type": "markdown",
   "metadata": {},
   "source": [
    "What do you think is the function of these neurons?"
   ]
  },
  {
   "cell_type": "markdown",
   "metadata": {},
   "source": [
    "Let's also import and plot the direction of the stimulus over time:"
   ]
  },
  {
   "cell_type": "code",
   "execution_count": null,
   "metadata": {},
   "outputs": [],
   "source": [
    "#⌨️⬇️\n"
   ]
  },
  {
   "cell_type": "markdown",
   "metadata": {},
   "source": [
    "As you can see the direction of visual motion is 0 for all trials, corresponding to forward motion.\n",
    "When the speed is zero then the direction is not defined, for those timepoints the array contains `nan`, a particular value used to indicate undefined entries (Not a Number)."
   ]
  },
  {
   "cell_type": "code",
   "execution_count": null,
   "metadata": {},
   "outputs": [],
   "source": [
    "stimulus_direction[0]"
   ]
  },
  {
   "cell_type": "markdown",
   "metadata": {},
   "source": [
    "### Behavior:"
   ]
  },
  {
   "cell_type": "markdown",
   "metadata": {},
   "source": [
    "As we said before we recorded images of the tail as well during the experiment, these images were segmented to extract the position of some points along the tail, we can import them as look at their shape:"
   ]
  },
  {
   "cell_type": "code",
   "execution_count": null,
   "metadata": {},
   "outputs": [],
   "source": [
    "#⌨️⬇️\n"
   ]
  },
  {
   "cell_type": "markdown",
   "metadata": {},
   "source": [
    "It's a 3D array: the first index selects the timepoint, the second one the segmented point along the tail, the third one its $x$ or $y$ coordinate."
   ]
  },
  {
   "cell_type": "markdown",
   "metadata": {},
   "source": [
    "You can try to define a function that plots the points along the tail for a given timepoint and make it interactive with a slider:"
   ]
  },
  {
   "cell_type": "code",
   "execution_count": null,
   "metadata": {},
   "outputs": [],
   "source": [
    "#⌨️⬇️\n"
   ]
  },
  {
   "cell_type": "markdown",
   "metadata": {},
   "source": [
    "From these points we have extracted the angle of the tip of the tail with respect to the body axis, it's contained in `tail/deflection`.  If you feel like it you can try to extract it yourself from the coordinates of the tail.  Let's have a look at it as a function of time:"
   ]
  },
  {
   "cell_type": "code",
   "execution_count": null,
   "metadata": {},
   "outputs": [],
   "source": [
    "#⌨️⬇️\n"
   ]
  },
  {
   "cell_type": "markdown",
   "metadata": {},
   "source": [
    "It's not so easy to see what's going on, let's try to zoom in.  You can either make the plot interactive or reduce the limits on the $x$ axis: "
   ]
  },
  {
   "cell_type": "code",
   "execution_count": null,
   "metadata": {},
   "outputs": [],
   "source": [
    "#⌨️⬇️\n"
   ]
  },
  {
   "cell_type": "markdown",
   "metadata": {},
   "source": [
    "At this scale we can better see the individual swimming events as fast oscillations of the tail angle over time."
   ]
  },
  {
   "cell_type": "markdown",
   "metadata": {},
   "source": [
    "The array in `tail/forward_thrust` contains an estimate of the swimming strength over time, let's plot it together with the tail deflection:"
   ]
  },
  {
   "cell_type": "code",
   "execution_count": null,
   "metadata": {},
   "outputs": [],
   "source": [
    "#⌨️⬇️\n"
   ]
  },
  {
   "cell_type": "markdown",
   "metadata": {},
   "source": [
    "The two signals have very different amplitudes, to make it easier to compare them we can normalize them by subtracting their mean and rescaling them by their standard deviation.  You can do it easily with the function `scale` from sklearn: "
   ]
  },
  {
   "cell_type": "code",
   "execution_count": null,
   "metadata": {},
   "outputs": [],
   "source": [
    "from sklearn.preprocessing import scale"
   ]
  },
  {
   "cell_type": "code",
   "execution_count": null,
   "metadata": {},
   "outputs": [],
   "source": [
    "#⌨️⬇️\n"
   ]
  },
  {
   "cell_type": "markdown",
   "metadata": {},
   "source": [
    "Now try to find a neuron whose activity is related to the swimming strength:"
   ]
  },
  {
   "cell_type": "code",
   "execution_count": null,
   "metadata": {},
   "outputs": [],
   "source": [
    "#⌨️⬇️\n"
   ]
  },
  {
   "cell_type": "markdown",
   "metadata": {},
   "source": [
    "What do you think is the role of this neuron?"
   ]
  },
  {
   "cell_type": "markdown",
   "metadata": {},
   "source": [
    "We've explored this dataset in quite some depth, now we'll move on to a different one.  If you have some extra time you're welcome to explore more by yourself and visualize other possible quantities of interested."
   ]
  },
  {
   "cell_type": "markdown",
   "metadata": {},
   "source": [
    "## Free swimming trajectories:"
   ]
  },
  {
   "cell_type": "markdown",
   "metadata": {},
   "source": [
    "Now let's look at the data from another experiment where larval zebrafish were recorded while swimming in shallow water at different temperatures.\n",
    "\n",
    "First close the file of the first dataset, then open the file `behaviour_free_swimming.h5` and display its content:"
   ]
  },
  {
   "cell_type": "code",
   "execution_count": null,
   "metadata": {},
   "outputs": [],
   "source": [
    "#⌨️⬇️\n"
   ]
  },
  {
   "cell_type": "markdown",
   "metadata": {},
   "source": [
    "Zebrafish larvae swim with a series of discrete movements called bouts, in this dataset we have the coordinates of the fish before bouts and the corresponding times."
   ]
  },
  {
   "cell_type": "markdown",
   "metadata": {},
   "source": [
    "Let's import the $(x,y)$ coordinates and bout times for the experiments at 26°C:"
   ]
  },
  {
   "cell_type": "code",
   "execution_count": null,
   "metadata": {},
   "outputs": [],
   "source": [
    "#⌨️⬇️\n",
    "xs=\n",
    "ys=\n",
    "ts="
   ]
  },
  {
   "cell_type": "markdown",
   "metadata": {},
   "source": [
    "These arrays contain the times and coordinates of various fish for 1513 different trajectories and maximum of 433 timepoints.\n",
    "\n",
    "Different trajectories can have a different number of bouts, only the longest one has 433 bouts, for the other ones the array is filled with NaNs, let's print the bout times of the first trajectory and see it for ourselves:"
   ]
  },
  {
   "cell_type": "code",
   "execution_count": null,
   "metadata": {},
   "outputs": [],
   "source": [
    "#⌨️⬇️\n"
   ]
  },
  {
   "cell_type": "markdown",
   "metadata": {},
   "source": [
    "We can count the number of bouts in each trajectory by using the function `np.isnan` which checks whether an element is a NaN.  Try doing it for the first trajectory:"
   ]
  },
  {
   "cell_type": "code",
   "execution_count": null,
   "metadata": {},
   "outputs": [],
   "source": [
    "#⌨️⬇️\n"
   ]
  },
  {
   "cell_type": "markdown",
   "metadata": {},
   "source": [
    "Let's do it for all trajectories and plot a histogram to visualize the result:"
   ]
  },
  {
   "cell_type": "code",
   "execution_count": null,
   "metadata": {},
   "outputs": [],
   "source": [
    "#⌨️⬇️\n"
   ]
  },
  {
   "cell_type": "markdown",
   "metadata": {},
   "source": [
    "Now let's plot a single trajectory in the $xy$-plane:"
   ]
  },
  {
   "cell_type": "code",
   "execution_count": null,
   "metadata": {},
   "outputs": [],
   "source": [
    "#⌨️⬇️\n"
   ]
  },
  {
   "cell_type": "markdown",
   "metadata": {},
   "source": [
    "What's the direction of motion? Let's highlight the starting position with a different marker:"
   ]
  },
  {
   "cell_type": "code",
   "execution_count": null,
   "metadata": {},
   "outputs": [],
   "source": [
    "#⌨️⬇️\n"
   ]
  },
  {
   "cell_type": "markdown",
   "metadata": {},
   "source": [
    "We can get more information about the trajectory: we can extract the interbout intervals as the time interval in between two consecutive bouts.  Try to get them for all trajectories using the function `np.diff`, and plot them in a histogram (you can use `ravel` to make an array one-dimensional):"
   ]
  },
  {
   "cell_type": "code",
   "execution_count": null,
   "metadata": {},
   "outputs": [],
   "source": [
    "#⌨️⬇️\n"
   ]
  },
  {
   "cell_type": "markdown",
   "metadata": {},
   "source": [
    "We can see that the finite frame rate results in a discrete set of values for the interbout intervals.  Let's calculate the mean and median interbout intervals (you can use `np.nanmean` and `np.nanmedian` to ignore NaNs) and add them to the plot as vertical lines (you can use `axvline`):"
   ]
  },
  {
   "cell_type": "code",
   "execution_count": null,
   "metadata": {},
   "outputs": [],
   "source": [
    "#⌨️⬇️\n"
   ]
  },
  {
   "cell_type": "markdown",
   "metadata": {},
   "source": [
    "Now let's add this information to the plot of the trajectory, let's change the size of the circles according to the value of the interbout interval.  You can use the function `scatter` that we've already seen before and use the interbout intervals for the size of the dots.  Be careful about how you deal with NaNs:"
   ]
  },
  {
   "cell_type": "code",
   "execution_count": null,
   "metadata": {},
   "outputs": [],
   "source": [
    "#⌨️⬇️\n"
   ]
  },
  {
   "cell_type": "markdown",
   "metadata": {},
   "source": [
    "Now let's try to plot all trajectories together, let's just plot a line for each trajectory to make it easier:"
   ]
  },
  {
   "cell_type": "code",
   "execution_count": null,
   "metadata": {},
   "outputs": [],
   "source": [
    "#⌨️⬇️\n"
   ]
  },
  {
   "cell_type": "markdown",
   "metadata": {},
   "source": [
    "Can you guess the shape of the tank?"
   ]
  },
  {
   "cell_type": "markdown",
   "metadata": {},
   "source": [
    "We can also try to visualize the distribution of points explored by the fish with a 2D histogram (you can use `plt.hist2d`):"
   ]
  },
  {
   "cell_type": "code",
   "execution_count": null,
   "metadata": {},
   "outputs": [],
   "source": [
    "#⌨️⬇️\n"
   ]
  },
  {
   "cell_type": "markdown",
   "metadata": {},
   "source": [
    "What can you say about how the fish navigate their space?"
   ]
  },
  {
   "cell_type": "markdown",
   "metadata": {},
   "source": [
    "Now let's center all trajectories so that they start from the origin, we just have to subtract the initial coordinates from each trajectory.  There is a little thing we have to be careful about, we are trying to perform an operation between arrays with different shapes, we've done this multiple times already, but there was no problem as numpy takes care of broadcasting (see https://numpy.org/doc/stable/user/basics.broadcasting.html#broadcasting).  Arrays with different shapes are combined by aligning them starting from from the last dimension, in this case this will lead to an error (as the last dimension has a different size for the two arrays and both are larger than one), but we can use `np.newaxis` to add an additional dimension and make the two arrays compatible:"
   ]
  },
  {
   "cell_type": "code",
   "execution_count": null,
   "metadata": {},
   "outputs": [],
   "source": [
    "xs.shape"
   ]
  },
  {
   "cell_type": "code",
   "execution_count": null,
   "metadata": {},
   "outputs": [],
   "source": [
    "xs[:,0].shape"
   ]
  },
  {
   "cell_type": "code",
   "execution_count": null,
   "metadata": {},
   "outputs": [],
   "source": [
    "#⌨️⬇️\n"
   ]
  },
  {
   "cell_type": "code",
   "execution_count": null,
   "metadata": {},
   "outputs": [],
   "source": [
    "#⌨️⬇️\n",
    "xs_center=\n",
    "ys_center="
   ]
  },
  {
   "cell_type": "markdown",
   "metadata": {},
   "source": [
    "And let's plot the centered trajectories as single traces and as a histogram:"
   ]
  },
  {
   "cell_type": "code",
   "execution_count": null,
   "metadata": {},
   "outputs": [],
   "source": [
    "#⌨️⬇️\n"
   ]
  },
  {
   "cell_type": "code",
   "execution_count": null,
   "metadata": {},
   "outputs": [],
   "source": [
    "#⌨️⬇️\n"
   ]
  },
  {
   "cell_type": "markdown",
   "metadata": {},
   "source": [
    "Are the results what you expected?"
   ]
  },
  {
   "cell_type": "markdown",
   "metadata": {},
   "source": [
    "Let's look at another interesting quantity, the mean squared displacement: \n",
    "\n",
    "$$ MSD(t) = (x(t)-x(0))^2+(y(t)-y(0))^2 $$\n",
    "\n",
    "Where the average is performed over many trajectories.  The MSD gives us a measure of how much the fish moves away from its initial position over time.\n",
    "\n",
    "Note that we have to average over many trajectories, but most of them are not very long, let's look at the number of trajectories that haven't ended yet as the function of the bout number:"
   ]
  },
  {
   "cell_type": "code",
   "execution_count": null,
   "metadata": {},
   "outputs": [],
   "source": [
    "#⌨️⬇️\n"
   ]
  },
  {
   "cell_type": "markdown",
   "metadata": {},
   "source": [
    "As you can see many trajectory are relatively short, let's calculate the mean squared displacement as a function of bout number up until a maximum bout number such that we still have enough trajectories to average over.\n",
    "\n",
    "First calculate the square displacement for each trajectory and then take the mean over all trajectories to get the MSD.\n",
    "You can also calculate its standard error as the sample standard deviation of the squared displacement divided by the number of samples.\n",
    "Finally plot the MSD as a function of bout number:"
   ]
  },
  {
   "cell_type": "code",
   "execution_count": null,
   "metadata": {},
   "outputs": [],
   "source": [
    "#⌨️⬇️\n"
   ]
  },
  {
   "cell_type": "markdown",
   "metadata": {},
   "source": [
    "There are three different regimes at different times, can you identify them?  What do they correspond to?"
   ]
  },
  {
   "cell_type": "markdown",
   "metadata": {},
   "source": [
    "Finally, let's have a look at the reorientation statistics, import the changes in fish orientation between successive bouts from the dataset and plot their distribution with a histogram:"
   ]
  },
  {
   "cell_type": "code",
   "execution_count": null,
   "metadata": {},
   "outputs": [],
   "source": [
    "#⌨️⬇️\n"
   ]
  },
  {
   "cell_type": "markdown",
   "metadata": {},
   "source": [
    "Take a moment to interpret this figure, what do we learn from it?"
   ]
  },
  {
   "cell_type": "markdown",
   "metadata": {},
   "source": [
    "We can also plot the angular changes over time as a function of the bout number, let's do it for a single trajectory:"
   ]
  },
  {
   "cell_type": "code",
   "execution_count": null,
   "metadata": {},
   "outputs": [],
   "source": [
    "#⌨️⬇️\n"
   ]
  },
  {
   "cell_type": "markdown",
   "metadata": {},
   "source": [
    "Can you tell when the fish is turning or going straight?  We'll study this problem in detail in another notebook."
   ]
  },
  {
   "cell_type": "markdown",
   "metadata": {},
   "source": [
    "We've seen the basics of how to visualize fish trajectories, if you'd like you can try to further explore the data.  For example you could include in the plots of the trajectories the orientation changes by changing the color of the dots."
   ]
  }
 ],
 "metadata": {
  "kernelspec": {
   "display_name": "Python 3 (ipykernel)",
   "language": "python",
   "name": "python3"
  },
  "language_info": {
   "codemirror_mode": {
    "name": "ipython",
    "version": 3
   },
   "file_extension": ".py",
   "mimetype": "text/x-python",
   "name": "python",
   "nbconvert_exporter": "python",
   "pygments_lexer": "ipython3",
   "version": "3.10.12"
  },
  "toc-autonumbering": false,
  "toc-showcode": false,
  "toc-showmarkdowntxt": false
 },
 "nbformat": 4,
 "nbformat_minor": 4
}
